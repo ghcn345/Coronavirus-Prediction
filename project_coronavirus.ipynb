{
 "cells": [
  {
   "cell_type": "markdown",
   "metadata": {},
   "source": [
    "# Coronavirus Prediction"
   ]
  },
  {
   "cell_type": "markdown",
   "metadata": {},
   "source": [
    "## Overview"
   ]
  },
  {
   "cell_type": "markdown",
   "metadata": {},
   "source": [
    "This project predicts related rates with deep learning methods."
   ]
  },
  {
   "cell_type": "code",
   "execution_count": null,
   "metadata": {},
   "outputs": [],
   "source": []
  },
  {
   "cell_type": "markdown",
   "metadata": {},
   "source": [
    "## Import Packages"
   ]
  },
  {
   "cell_type": "code",
   "execution_count": 1,
   "metadata": {
    "ExecuteTime": {
     "end_time": "2020-11-09T16:42:16.477059Z",
     "start_time": "2020-11-09T16:42:16.465937Z"
    }
   },
   "outputs": [],
   "source": [
    "import numpy as np\n",
    "import pandas as pd\n",
    "import seaborn as sns\n",
    "import requests\n",
    "import json\n",
    "import time\n",
    "from bs4 import BeautifulSoup as bs\n",
    "import matplotlib.pyplot as plt\n",
    "%matplotlib inline\n",
    "\n",
    "from sklearn import linear_model\n",
    "from sklearn.linear_model import LinearRegression\n",
    "from sklearn.model_selection import train_test_split\n",
    "from sklearn.metrics import mean_squared_error, r2_score, mean_absolute_error\n",
    "from statsmodels.stats.outliers_influence import variance_inflation_factor\n",
    "from sklearn.preprocessing import PolynomialFeatures\n",
    "from sklearn.preprocessing import StandardScaler\n",
    "from sklearn.feature_selection import RFECV\n",
    "from sklearn.feature_selection import SelectKBest, f_regression, mutual_info_regression\n",
    "from sklearn.linear_model import Lasso\n",
    "from sklearn.linear_model import Ridge\n",
    "import pickle\n",
    "\n",
    "#import geopandas as gpd"
   ]
  },
  {
   "cell_type": "code",
   "execution_count": 3,
   "metadata": {
    "ExecuteTime": {
     "end_time": "2020-11-09T16:35:18.983994Z",
     "start_time": "2020-11-09T16:35:18.964805Z"
    },
    "scrolled": true
   },
   "outputs": [],
   "source": [
    "%%capture\n",
    "#from tqdm import tqdm_notebook as tqdm\n",
    "from tqdm.notebook import tqdm\n",
    "tqdm().pandas()"
   ]
  },
  {
   "cell_type": "markdown",
   "metadata": {},
   "source": [
    "# Data Collection"
   ]
  },
  {
   "cell_type": "markdown",
   "metadata": {},
   "source": [
    "## Coronavirus API"
   ]
  },
  {
   "cell_type": "markdown",
   "metadata": {},
   "source": [
    "https://www.programmableweb.com/api/coronavirus-tracker-rest-api-v20"
   ]
  },
  {
   "cell_type": "code",
   "execution_count": 2,
   "metadata": {
    "ExecuteTime": {
     "start_time": "2020-11-10T04:27:27.635Z"
    }
   },
   "outputs": [],
   "source": [
    "url = 'https://coronavirus-tracker-api.herokuapp.com/v2/locations'\n",
    "\n",
    "random = np.random.uniform(0, 1, 501)\n",
    "# time.sleep(random[i])\n",
    "params = {  \n",
    "            #'source': 'csbs',\n",
    "            #'country_code': 'US',           \n",
    "            'timelines': 1\n",
    "          }\n",
    "\n",
    "response = requests.get(url, params)\n",
    "d = response.json()"
   ]
  },
  {
   "cell_type": "code",
   "execution_count": null,
   "metadata": {},
   "outputs": [],
   "source": []
  },
  {
   "cell_type": "code",
   "execution_count": 15,
   "metadata": {},
   "outputs": [
    {
     "data": {
      "text/plain": [
       "{'id': 248,\n",
       " 'country': 'Turkey',\n",
       " 'country_code': 'TR',\n",
       " 'country_population': 82319724,\n",
       " 'province': '',\n",
       " 'last_updated': '2021-01-27T15:00:34.609843Z',\n",
       " 'coordinates': {'latitude': '38.9637', 'longitude': '35.2433'},\n",
       " 'latest': {'confirmed': 2442350, 'deaths': 25344, 'recovered': 0}}"
      ]
     },
     "execution_count": 15,
     "metadata": {},
     "output_type": "execute_result"
    }
   ],
   "source": [
    "d['locations'][248]"
   ]
  },
  {
   "cell_type": "code",
   "execution_count": null,
   "metadata": {},
   "outputs": [],
   "source": []
  },
  {
   "cell_type": "code",
   "execution_count": 3,
   "metadata": {},
   "outputs": [],
   "source": [
    "ts = pd.DataFrame(d['locations'][248]['timelines']['deaths'])"
   ]
  },
  {
   "cell_type": "code",
   "execution_count": 4,
   "metadata": {},
   "outputs": [],
   "source": [
    "ts.index = pd.to_datetime(ts.index).date"
   ]
  },
  {
   "cell_type": "code",
   "execution_count": null,
   "metadata": {},
   "outputs": [],
   "source": []
  },
  {
   "cell_type": "code",
   "execution_count": null,
   "metadata": {},
   "outputs": [],
   "source": []
  },
  {
   "cell_type": "code",
   "execution_count": null,
   "metadata": {},
   "outputs": [],
   "source": []
  },
  {
   "cell_type": "code",
   "execution_count": 35,
   "metadata": {},
   "outputs": [
    {
     "data": {
      "text/plain": [
       "<AxesSubplot:>"
      ]
     },
     "execution_count": 35,
     "metadata": {},
     "output_type": "execute_result"
    },
    {
     "data": {
      "image/png": "[encoded data removed]",
      "text/plain": [
       "<Figure size 432x288 with 1 Axes>"
      ]
     },
     "metadata": {
      "needs_background": "light"
     },
     "output_type": "display_data"
    }
   ],
   "source": [
    "ts.plot()"
   ]
  },
  {
   "cell_type": "code",
   "execution_count": null,
   "metadata": {},
   "outputs": [],
   "source": []
  },
  {
   "cell_type": "code",
   "execution_count": null,
   "metadata": {},
   "outputs": [],
   "source": []
  },
  {
   "cell_type": "code",
   "execution_count": 54,
   "metadata": {},
   "outputs": [
    {
     "data": {
      "text/plain": [
       "<AxesSubplot:>"
      ]
     },
     "execution_count": 54,
     "metadata": {},
     "output_type": "execute_result"
    },
    {
     "data": {
      "image/png": "[encoded data removed]",
      "text/plain": [
       "<Figure size 432x288 with 1 Axes>"
      ]
     },
     "metadata": {
      "needs_background": "light"
     },
     "output_type": "display_data"
    },
    {
     "data": {
      "image/png": "[encoded data removed]",
      "text/plain": [
       "<Figure size 432x288 with 1 Axes>"
      ]
     },
     "metadata": {
      "needs_background": "light"
     },
     "output_type": "display_data"
    }
   ],
   "source": [
    "pd.DataFrame(d['locations'][248]['timelines']['confirmed']).plot()\n",
    "pd.DataFrame(d['locations'][248]['timelines']['deaths']).plot()"
   ]
  },
  {
   "cell_type": "code",
   "execution_count": null,
   "metadata": {},
   "outputs": [],
   "source": []
  },
  {
   "cell_type": "code",
   "execution_count": null,
   "metadata": {},
   "outputs": [],
   "source": []
  },
  {
   "cell_type": "code",
   "execution_count": null,
   "metadata": {},
   "outputs": [],
   "source": []
  },
  {
   "cell_type": "code",
   "execution_count": null,
   "metadata": {},
   "outputs": [],
   "source": []
  },
  {
   "cell_type": "code",
   "execution_count": null,
   "metadata": {},
   "outputs": [],
   "source": []
  },
  {
   "cell_type": "code",
   "execution_count": null,
   "metadata": {},
   "outputs": [],
   "source": []
  },
  {
   "cell_type": "code",
   "execution_count": 74,
   "metadata": {},
   "outputs": [],
   "source": [
    "df = pd.DataFrame(d['locations'])"
   ]
  },
  {
   "cell_type": "code",
   "execution_count": 75,
   "metadata": {},
   "outputs": [
    {
     "data": {
      "text/html": [
       "<div>\n",
       "<style scoped>\n",
       "    .dataframe tbody tr th:only-of-type {\n",
       "        vertical-align: middle;\n",
       "    }\n",
       "\n",
       "    .dataframe tbody tr th {\n",
       "        vertical-align: top;\n",
       "    }\n",
       "\n",
       "    .dataframe thead th {\n",
       "        text-align: right;\n",
       "    }\n",
       "</style>\n",
       "<table border=\"1\" class=\"dataframe\">\n",
       "  <thead>\n",
       "    <tr style=\"text-align: right;\">\n",
       "      <th></th>\n",
       "      <th>id</th>\n",
       "      <th>country</th>\n",
       "      <th>country_code</th>\n",
       "      <th>country_population</th>\n",
       "      <th>province</th>\n",
       "      <th>county</th>\n",
       "      <th>last_updated</th>\n",
       "      <th>coordinates</th>\n",
       "      <th>latest</th>\n",
       "    </tr>\n",
       "  </thead>\n",
       "  <tbody>\n",
       "    <tr>\n",
       "      <th>0</th>\n",
       "      <td>0</td>\n",
       "      <td>US</td>\n",
       "      <td>US</td>\n",
       "      <td>327167434</td>\n",
       "      <td>California</td>\n",
       "      <td>Los Angeles</td>\n",
       "      <td>2021-01-04T13:31:00Z</td>\n",
       "      <td>{'latitude': '34.053490000000004', 'longitude'...</td>\n",
       "      <td>{'confirmed': 818698, 'deaths': 10773, 'recove...</td>\n",
       "    </tr>\n",
       "    <tr>\n",
       "      <th>1</th>\n",
       "      <td>1</td>\n",
       "      <td>US</td>\n",
       "      <td>US</td>\n",
       "      <td>327167434</td>\n",
       "      <td>California</td>\n",
       "      <td>San Bernardino</td>\n",
       "      <td>2021-01-04T13:31:00Z</td>\n",
       "      <td>{'latitude': '34.10524', 'longitude': '-117.29...</td>\n",
       "      <td>{'confirmed': 195663, 'deaths': 1447, 'recover...</td>\n",
       "    </tr>\n",
       "    <tr>\n",
       "      <th>2</th>\n",
       "      <td>2</td>\n",
       "      <td>US</td>\n",
       "      <td>US</td>\n",
       "      <td>327167434</td>\n",
       "      <td>California</td>\n",
       "      <td>Riverside</td>\n",
       "      <td>2021-01-04T13:31:00Z</td>\n",
       "      <td>{'latitude': '33.98171', 'longitude': '-117.37...</td>\n",
       "      <td>{'confirmed': 180553, 'deaths': 1985, 'recover...</td>\n",
       "    </tr>\n",
       "    <tr>\n",
       "      <th>3</th>\n",
       "      <td>3</td>\n",
       "      <td>US</td>\n",
       "      <td>US</td>\n",
       "      <td>327167434</td>\n",
       "      <td>California</td>\n",
       "      <td>San Diego</td>\n",
       "      <td>2021-01-04T13:31:00Z</td>\n",
       "      <td>{'latitude': '32.71568', 'longitude': '-117.16...</td>\n",
       "      <td>{'confirmed': 168020, 'deaths': 1592, 'recover...</td>\n",
       "    </tr>\n",
       "    <tr>\n",
       "      <th>4</th>\n",
       "      <td>4</td>\n",
       "      <td>US</td>\n",
       "      <td>US</td>\n",
       "      <td>327167434</td>\n",
       "      <td>California</td>\n",
       "      <td>Orange</td>\n",
       "      <td>2021-01-04T13:31:00Z</td>\n",
       "      <td>{'latitude': '33.78787', 'longitude': '-117.85...</td>\n",
       "      <td>{'confirmed': 161589, 'deaths': 1901, 'recover...</td>\n",
       "    </tr>\n",
       "    <tr>\n",
       "      <th>...</th>\n",
       "      <td>...</td>\n",
       "      <td>...</td>\n",
       "      <td>...</td>\n",
       "      <td>...</td>\n",
       "      <td>...</td>\n",
       "      <td>...</td>\n",
       "      <td>...</td>\n",
       "      <td>...</td>\n",
       "      <td>...</td>\n",
       "    </tr>\n",
       "    <tr>\n",
       "      <th>3151</th>\n",
       "      <td>3151</td>\n",
       "      <td>US</td>\n",
       "      <td>US</td>\n",
       "      <td>327167434</td>\n",
       "      <td>US Virgin Islands</td>\n",
       "      <td>St. Thomas</td>\n",
       "      <td>2021-01-04T13:31:00Z</td>\n",
       "      <td>{'latitude': '18.34899', 'longitude': '-64.930...</td>\n",
       "      <td>{'confirmed': 1028, 'deaths': 0, 'recovered': 0}</td>\n",
       "    </tr>\n",
       "    <tr>\n",
       "      <th>3152</th>\n",
       "      <td>3152</td>\n",
       "      <td>US</td>\n",
       "      <td>US</td>\n",
       "      <td>327167434</td>\n",
       "      <td>US Virgin Islands</td>\n",
       "      <td>St. Croix</td>\n",
       "      <td>2021-01-04T13:31:00Z</td>\n",
       "      <td>{'latitude': '17.73563', 'longitude': '-64.747...</td>\n",
       "      <td>{'confirmed': 829, 'deaths': 0, 'recovered': 0}</td>\n",
       "    </tr>\n",
       "    <tr>\n",
       "      <th>3153</th>\n",
       "      <td>3153</td>\n",
       "      <td>US</td>\n",
       "      <td>US</td>\n",
       "      <td>327167434</td>\n",
       "      <td>US Virgin Islands</td>\n",
       "      <td>St. John</td>\n",
       "      <td>2021-01-04T13:31:00Z</td>\n",
       "      <td>{'latitude': '18.33870409', 'longitude': '-64....</td>\n",
       "      <td>{'confirmed': 174, 'deaths': 0, 'recovered': 0}</td>\n",
       "    </tr>\n",
       "    <tr>\n",
       "      <th>3154</th>\n",
       "      <td>3154</td>\n",
       "      <td>US</td>\n",
       "      <td>US</td>\n",
       "      <td>327167434</td>\n",
       "      <td>Northern Mariana Islands</td>\n",
       "      <td>Northern Mariana Islands</td>\n",
       "      <td>2021-01-04T13:31:00Z</td>\n",
       "      <td>{'latitude': '15.188824770000052', 'longitude'...</td>\n",
       "      <td>{'confirmed': 31, 'deaths': 2, 'recovered': 0}</td>\n",
       "    </tr>\n",
       "    <tr>\n",
       "      <th>3155</th>\n",
       "      <td>3201</td>\n",
       "      <td>US</td>\n",
       "      <td>US</td>\n",
       "      <td>327167434</td>\n",
       "      <td>Wyoming</td>\n",
       "      <td>unassigned</td>\n",
       "      <td>2021-01-04T13:31:00Z</td>\n",
       "      <td>{'latitude': '42.755966', 'longitude': '-107.3...</td>\n",
       "      <td>{'confirmed': 0, 'deaths': 154, 'recovered': 0}</td>\n",
       "    </tr>\n",
       "  </tbody>\n",
       "</table>\n",
       "<p>3156 rows × 9 columns</p>\n",
       "</div>"
      ],
      "text/plain": [
       "        id country country_code  country_population                  province  \\\n",
       "0        0      US           US           327167434                California   \n",
       "1        1      US           US           327167434                California   \n",
       "2        2      US           US           327167434                California   \n",
       "3        3      US           US           327167434                California   \n",
       "4        4      US           US           327167434                California   \n",
       "...    ...     ...          ...                 ...                       ...   \n",
       "3151  3151      US           US           327167434         US Virgin Islands   \n",
       "3152  3152      US           US           327167434         US Virgin Islands   \n",
       "3153  3153      US           US           327167434         US Virgin Islands   \n",
       "3154  3154      US           US           327167434  Northern Mariana Islands   \n",
       "3155  3201      US           US           327167434                   Wyoming   \n",
       "\n",
       "                        county          last_updated  \\\n",
       "0                  Los Angeles  2021-01-04T13:31:00Z   \n",
       "1               San Bernardino  2021-01-04T13:31:00Z   \n",
       "2                    Riverside  2021-01-04T13:31:00Z   \n",
       "3                    San Diego  2021-01-04T13:31:00Z   \n",
       "4                       Orange  2021-01-04T13:31:00Z   \n",
       "...                        ...                   ...   \n",
       "3151                St. Thomas  2021-01-04T13:31:00Z   \n",
       "3152                 St. Croix  2021-01-04T13:31:00Z   \n",
       "3153                  St. John  2021-01-04T13:31:00Z   \n",
       "3154  Northern Mariana Islands  2021-01-04T13:31:00Z   \n",
       "3155                unassigned  2021-01-04T13:31:00Z   \n",
       "\n",
       "                                            coordinates  \\\n",
       "0     {'latitude': '34.053490000000004', 'longitude'...   \n",
       "1     {'latitude': '34.10524', 'longitude': '-117.29...   \n",
       "2     {'latitude': '33.98171', 'longitude': '-117.37...   \n",
       "3     {'latitude': '32.71568', 'longitude': '-117.16...   \n",
       "4     {'latitude': '33.78787', 'longitude': '-117.85...   \n",
       "...                                                 ...   \n",
       "3151  {'latitude': '18.34899', 'longitude': '-64.930...   \n",
       "3152  {'latitude': '17.73563', 'longitude': '-64.747...   \n",
       "3153  {'latitude': '18.33870409', 'longitude': '-64....   \n",
       "3154  {'latitude': '15.188824770000052', 'longitude'...   \n",
       "3155  {'latitude': '42.755966', 'longitude': '-107.3...   \n",
       "\n",
       "                                                 latest  \n",
       "0     {'confirmed': 818698, 'deaths': 10773, 'recove...  \n",
       "1     {'confirmed': 195663, 'deaths': 1447, 'recover...  \n",
       "2     {'confirmed': 180553, 'deaths': 1985, 'recover...  \n",
       "3     {'confirmed': 168020, 'deaths': 1592, 'recover...  \n",
       "4     {'confirmed': 161589, 'deaths': 1901, 'recover...  \n",
       "...                                                 ...  \n",
       "3151   {'confirmed': 1028, 'deaths': 0, 'recovered': 0}  \n",
       "3152    {'confirmed': 829, 'deaths': 0, 'recovered': 0}  \n",
       "3153    {'confirmed': 174, 'deaths': 0, 'recovered': 0}  \n",
       "3154     {'confirmed': 31, 'deaths': 2, 'recovered': 0}  \n",
       "3155    {'confirmed': 0, 'deaths': 154, 'recovered': 0}  \n",
       "\n",
       "[3156 rows x 9 columns]"
      ]
     },
     "execution_count": 75,
     "metadata": {},
     "output_type": "execute_result"
    }
   ],
   "source": [
    "df"
   ]
  },
  {
   "cell_type": "code",
   "execution_count": null,
   "metadata": {},
   "outputs": [],
   "source": []
  },
  {
   "cell_type": "markdown",
   "metadata": {},
   "source": [
    "## API"
   ]
  },
  {
   "cell_type": "markdown",
   "metadata": {},
   "source": [
    "https://covidtracking.com/data/api"
   ]
  },
  {
   "cell_type": "code",
   "execution_count": 194,
   "metadata": {},
   "outputs": [],
   "source": [
    "url = 'https://api.covidtracking.com/v1/us/daily.json'\n",
    "\n",
    "response = requests.get(url)\n",
    "d = response.json()"
   ]
  },
  {
   "cell_type": "code",
   "execution_count": null,
   "metadata": {},
   "outputs": [],
   "source": []
  },
  {
   "cell_type": "code",
   "execution_count": 195,
   "metadata": {},
   "outputs": [
    {
     "data": {
      "text/html": [
       "<div>\n",
       "<style scoped>\n",
       "    .dataframe tbody tr th:only-of-type {\n",
       "        vertical-align: middle;\n",
       "    }\n",
       "\n",
       "    .dataframe tbody tr th {\n",
       "        vertical-align: top;\n",
       "    }\n",
       "\n",
       "    .dataframe thead th {\n",
       "        text-align: right;\n",
       "    }\n",
       "</style>\n",
       "<table border=\"1\" class=\"dataframe\">\n",
       "  <thead>\n",
       "    <tr style=\"text-align: right;\">\n",
       "      <th></th>\n",
       "      <th>date</th>\n",
       "      <th>states</th>\n",
       "      <th>positive</th>\n",
       "      <th>negative</th>\n",
       "      <th>pending</th>\n",
       "      <th>hospitalizedCurrently</th>\n",
       "      <th>hospitalizedCumulative</th>\n",
       "      <th>inIcuCurrently</th>\n",
       "      <th>inIcuCumulative</th>\n",
       "      <th>onVentilatorCurrently</th>\n",
       "      <th>...</th>\n",
       "      <th>totalTestResults</th>\n",
       "      <th>lastModified</th>\n",
       "      <th>total</th>\n",
       "      <th>posNeg</th>\n",
       "      <th>deathIncrease</th>\n",
       "      <th>hospitalizedIncrease</th>\n",
       "      <th>negativeIncrease</th>\n",
       "      <th>positiveIncrease</th>\n",
       "      <th>totalTestResultsIncrease</th>\n",
       "      <th>hash</th>\n",
       "    </tr>\n",
       "  </thead>\n",
       "  <tbody>\n",
       "    <tr>\n",
       "      <th>0</th>\n",
       "      <td>20210104</td>\n",
       "      <td>56</td>\n",
       "      <td>20560549.0</td>\n",
       "      <td>198034096.0</td>\n",
       "      <td>9463.0</td>\n",
       "      <td>128210.0</td>\n",
       "      <td>699971.0</td>\n",
       "      <td>23435.0</td>\n",
       "      <td>37586.0</td>\n",
       "      <td>7930.0</td>\n",
       "      <td>...</td>\n",
       "      <td>256914140</td>\n",
       "      <td>2021-01-04T24:00:00Z</td>\n",
       "      <td>0</td>\n",
       "      <td>0</td>\n",
       "      <td>1545</td>\n",
       "      <td>4029</td>\n",
       "      <td>1257838</td>\n",
       "      <td>177669</td>\n",
       "      <td>1638082</td>\n",
       "      <td>9a5d7bba3805b8932e540b0cfbc0ce782ef9b94c</td>\n",
       "    </tr>\n",
       "    <tr>\n",
       "      <th>1</th>\n",
       "      <td>20210103</td>\n",
       "      <td>56</td>\n",
       "      <td>20382880.0</td>\n",
       "      <td>196776258.0</td>\n",
       "      <td>9407.0</td>\n",
       "      <td>125562.0</td>\n",
       "      <td>695942.0</td>\n",
       "      <td>23243.0</td>\n",
       "      <td>37433.0</td>\n",
       "      <td>7939.0</td>\n",
       "      <td>...</td>\n",
       "      <td>255276058</td>\n",
       "      <td>2021-01-03T24:00:00Z</td>\n",
       "      <td>0</td>\n",
       "      <td>0</td>\n",
       "      <td>1461</td>\n",
       "      <td>2226</td>\n",
       "      <td>1001197</td>\n",
       "      <td>207726</td>\n",
       "      <td>1444369</td>\n",
       "      <td>fd495d4591df97f8297b69a93a38209da53a5d30</td>\n",
       "    </tr>\n",
       "    <tr>\n",
       "      <th>2</th>\n",
       "      <td>20210102</td>\n",
       "      <td>56</td>\n",
       "      <td>20175154.0</td>\n",
       "      <td>195775061.0</td>\n",
       "      <td>9356.0</td>\n",
       "      <td>123614.0</td>\n",
       "      <td>693716.0</td>\n",
       "      <td>23133.0</td>\n",
       "      <td>37309.0</td>\n",
       "      <td>7910.0</td>\n",
       "      <td>...</td>\n",
       "      <td>253831689</td>\n",
       "      <td>2021-01-02T24:00:00Z</td>\n",
       "      <td>0</td>\n",
       "      <td>0</td>\n",
       "      <td>2395</td>\n",
       "      <td>3051</td>\n",
       "      <td>1358739</td>\n",
       "      <td>278680</td>\n",
       "      <td>2077336</td>\n",
       "      <td>0a41916c227cf908081548d26fcad961a5f00397</td>\n",
       "    </tr>\n",
       "    <tr>\n",
       "      <th>3</th>\n",
       "      <td>20210101</td>\n",
       "      <td>56</td>\n",
       "      <td>19896474.0</td>\n",
       "      <td>194416322.0</td>\n",
       "      <td>11506.0</td>\n",
       "      <td>125047.0</td>\n",
       "      <td>690665.0</td>\n",
       "      <td>23255.0</td>\n",
       "      <td>37196.0</td>\n",
       "      <td>7990.0</td>\n",
       "      <td>...</td>\n",
       "      <td>251754353</td>\n",
       "      <td>2021-01-01T24:00:00Z</td>\n",
       "      <td>0</td>\n",
       "      <td>0</td>\n",
       "      <td>2596</td>\n",
       "      <td>4507</td>\n",
       "      <td>872785</td>\n",
       "      <td>179852</td>\n",
       "      <td>1276261</td>\n",
       "      <td>7641ed39d70f7ed6a52a1068b5c36f6c91c8d190</td>\n",
       "    </tr>\n",
       "    <tr>\n",
       "      <th>4</th>\n",
       "      <td>20201231</td>\n",
       "      <td>56</td>\n",
       "      <td>19716622.0</td>\n",
       "      <td>193543537.0</td>\n",
       "      <td>14931.0</td>\n",
       "      <td>125379.0</td>\n",
       "      <td>686158.0</td>\n",
       "      <td>23099.0</td>\n",
       "      <td>37066.0</td>\n",
       "      <td>8003.0</td>\n",
       "      <td>...</td>\n",
       "      <td>250478092</td>\n",
       "      <td>2020-12-31T24:00:00Z</td>\n",
       "      <td>0</td>\n",
       "      <td>0</td>\n",
       "      <td>3287</td>\n",
       "      <td>4290</td>\n",
       "      <td>1120447</td>\n",
       "      <td>223036</td>\n",
       "      <td>1748878</td>\n",
       "      <td>87a8179b8e103555fec80788c35221afd086662a</td>\n",
       "    </tr>\n",
       "    <tr>\n",
       "      <th>...</th>\n",
       "      <td>...</td>\n",
       "      <td>...</td>\n",
       "      <td>...</td>\n",
       "      <td>...</td>\n",
       "      <td>...</td>\n",
       "      <td>...</td>\n",
       "      <td>...</td>\n",
       "      <td>...</td>\n",
       "      <td>...</td>\n",
       "      <td>...</td>\n",
       "      <td>...</td>\n",
       "      <td>...</td>\n",
       "      <td>...</td>\n",
       "      <td>...</td>\n",
       "      <td>...</td>\n",
       "      <td>...</td>\n",
       "      <td>...</td>\n",
       "      <td>...</td>\n",
       "      <td>...</td>\n",
       "      <td>...</td>\n",
       "      <td>...</td>\n",
       "    </tr>\n",
       "    <tr>\n",
       "      <th>353</th>\n",
       "      <td>20200117</td>\n",
       "      <td>1</td>\n",
       "      <td>0.0</td>\n",
       "      <td>NaN</td>\n",
       "      <td>NaN</td>\n",
       "      <td>NaN</td>\n",
       "      <td>NaN</td>\n",
       "      <td>NaN</td>\n",
       "      <td>NaN</td>\n",
       "      <td>NaN</td>\n",
       "      <td>...</td>\n",
       "      <td>0</td>\n",
       "      <td>2020-01-17T24:00:00Z</td>\n",
       "      <td>0</td>\n",
       "      <td>0</td>\n",
       "      <td>0</td>\n",
       "      <td>0</td>\n",
       "      <td>0</td>\n",
       "      <td>0</td>\n",
       "      <td>0</td>\n",
       "      <td>5fd7ed7fb0f83565ea0aaaf5ff6104e5860be2d6</td>\n",
       "    </tr>\n",
       "    <tr>\n",
       "      <th>354</th>\n",
       "      <td>20200116</td>\n",
       "      <td>1</td>\n",
       "      <td>0.0</td>\n",
       "      <td>NaN</td>\n",
       "      <td>NaN</td>\n",
       "      <td>NaN</td>\n",
       "      <td>NaN</td>\n",
       "      <td>NaN</td>\n",
       "      <td>NaN</td>\n",
       "      <td>NaN</td>\n",
       "      <td>...</td>\n",
       "      <td>0</td>\n",
       "      <td>2020-01-16T24:00:00Z</td>\n",
       "      <td>0</td>\n",
       "      <td>0</td>\n",
       "      <td>0</td>\n",
       "      <td>0</td>\n",
       "      <td>0</td>\n",
       "      <td>0</td>\n",
       "      <td>0</td>\n",
       "      <td>4c0f2ea879eefec1a18a93bcd8a382ea56cd452d</td>\n",
       "    </tr>\n",
       "    <tr>\n",
       "      <th>355</th>\n",
       "      <td>20200115</td>\n",
       "      <td>1</td>\n",
       "      <td>0.0</td>\n",
       "      <td>NaN</td>\n",
       "      <td>NaN</td>\n",
       "      <td>NaN</td>\n",
       "      <td>NaN</td>\n",
       "      <td>NaN</td>\n",
       "      <td>NaN</td>\n",
       "      <td>NaN</td>\n",
       "      <td>...</td>\n",
       "      <td>0</td>\n",
       "      <td>2020-01-15T24:00:00Z</td>\n",
       "      <td>0</td>\n",
       "      <td>0</td>\n",
       "      <td>0</td>\n",
       "      <td>0</td>\n",
       "      <td>0</td>\n",
       "      <td>0</td>\n",
       "      <td>0</td>\n",
       "      <td>8a449023413eea473277416e9e30ae126c6af047</td>\n",
       "    </tr>\n",
       "    <tr>\n",
       "      <th>356</th>\n",
       "      <td>20200114</td>\n",
       "      <td>1</td>\n",
       "      <td>0.0</td>\n",
       "      <td>NaN</td>\n",
       "      <td>NaN</td>\n",
       "      <td>NaN</td>\n",
       "      <td>NaN</td>\n",
       "      <td>NaN</td>\n",
       "      <td>NaN</td>\n",
       "      <td>NaN</td>\n",
       "      <td>...</td>\n",
       "      <td>0</td>\n",
       "      <td>2020-01-14T24:00:00Z</td>\n",
       "      <td>0</td>\n",
       "      <td>0</td>\n",
       "      <td>0</td>\n",
       "      <td>0</td>\n",
       "      <td>0</td>\n",
       "      <td>0</td>\n",
       "      <td>0</td>\n",
       "      <td>fe399466a3dfbe0221a18ed5cacb39a3882d72f8</td>\n",
       "    </tr>\n",
       "    <tr>\n",
       "      <th>357</th>\n",
       "      <td>20200113</td>\n",
       "      <td>1</td>\n",
       "      <td>NaN</td>\n",
       "      <td>NaN</td>\n",
       "      <td>NaN</td>\n",
       "      <td>NaN</td>\n",
       "      <td>NaN</td>\n",
       "      <td>NaN</td>\n",
       "      <td>NaN</td>\n",
       "      <td>NaN</td>\n",
       "      <td>...</td>\n",
       "      <td>0</td>\n",
       "      <td>2020-01-13T24:00:00Z</td>\n",
       "      <td>0</td>\n",
       "      <td>0</td>\n",
       "      <td>0</td>\n",
       "      <td>0</td>\n",
       "      <td>0</td>\n",
       "      <td>0</td>\n",
       "      <td>0</td>\n",
       "      <td>5672debf187b183735be63f6bd85834ead0047ff</td>\n",
       "    </tr>\n",
       "  </tbody>\n",
       "</table>\n",
       "<p>358 rows × 25 columns</p>\n",
       "</div>"
      ],
      "text/plain": [
       "         date  states    positive     negative  pending  \\\n",
       "0    20210104      56  20560549.0  198034096.0   9463.0   \n",
       "1    20210103      56  20382880.0  196776258.0   9407.0   \n",
       "2    20210102      56  20175154.0  195775061.0   9356.0   \n",
       "3    20210101      56  19896474.0  194416322.0  11506.0   \n",
       "4    20201231      56  19716622.0  193543537.0  14931.0   \n",
       "..        ...     ...         ...          ...      ...   \n",
       "353  20200117       1         0.0          NaN      NaN   \n",
       "354  20200116       1         0.0          NaN      NaN   \n",
       "355  20200115       1         0.0          NaN      NaN   \n",
       "356  20200114       1         0.0          NaN      NaN   \n",
       "357  20200113       1         NaN          NaN      NaN   \n",
       "\n",
       "     hospitalizedCurrently  hospitalizedCumulative  inIcuCurrently  \\\n",
       "0                 128210.0                699971.0         23435.0   \n",
       "1                 125562.0                695942.0         23243.0   \n",
       "2                 123614.0                693716.0         23133.0   \n",
       "3                 125047.0                690665.0         23255.0   \n",
       "4                 125379.0                686158.0         23099.0   \n",
       "..                     ...                     ...             ...   \n",
       "353                    NaN                     NaN             NaN   \n",
       "354                    NaN                     NaN             NaN   \n",
       "355                    NaN                     NaN             NaN   \n",
       "356                    NaN                     NaN             NaN   \n",
       "357                    NaN                     NaN             NaN   \n",
       "\n",
       "     inIcuCumulative  onVentilatorCurrently  ...  totalTestResults  \\\n",
       "0            37586.0                 7930.0  ...         256914140   \n",
       "1            37433.0                 7939.0  ...         255276058   \n",
       "2            37309.0                 7910.0  ...         253831689   \n",
       "3            37196.0                 7990.0  ...         251754353   \n",
       "4            37066.0                 8003.0  ...         250478092   \n",
       "..               ...                    ...  ...               ...   \n",
       "353              NaN                    NaN  ...                 0   \n",
       "354              NaN                    NaN  ...                 0   \n",
       "355              NaN                    NaN  ...                 0   \n",
       "356              NaN                    NaN  ...                 0   \n",
       "357              NaN                    NaN  ...                 0   \n",
       "\n",
       "             lastModified total  posNeg  deathIncrease  hospitalizedIncrease  \\\n",
       "0    2021-01-04T24:00:00Z     0       0           1545                  4029   \n",
       "1    2021-01-03T24:00:00Z     0       0           1461                  2226   \n",
       "2    2021-01-02T24:00:00Z     0       0           2395                  3051   \n",
       "3    2021-01-01T24:00:00Z     0       0           2596                  4507   \n",
       "4    2020-12-31T24:00:00Z     0       0           3287                  4290   \n",
       "..                    ...   ...     ...            ...                   ...   \n",
       "353  2020-01-17T24:00:00Z     0       0              0                     0   \n",
       "354  2020-01-16T24:00:00Z     0       0              0                     0   \n",
       "355  2020-01-15T24:00:00Z     0       0              0                     0   \n",
       "356  2020-01-14T24:00:00Z     0       0              0                     0   \n",
       "357  2020-01-13T24:00:00Z     0       0              0                     0   \n",
       "\n",
       "    negativeIncrease  positiveIncrease  totalTestResultsIncrease  \\\n",
       "0            1257838            177669                   1638082   \n",
       "1            1001197            207726                   1444369   \n",
       "2            1358739            278680                   2077336   \n",
       "3             872785            179852                   1276261   \n",
       "4            1120447            223036                   1748878   \n",
       "..               ...               ...                       ...   \n",
       "353                0                 0                         0   \n",
       "354                0                 0                         0   \n",
       "355                0                 0                         0   \n",
       "356                0                 0                         0   \n",
       "357                0                 0                         0   \n",
       "\n",
       "                                         hash  \n",
       "0    9a5d7bba3805b8932e540b0cfbc0ce782ef9b94c  \n",
       "1    fd495d4591df97f8297b69a93a38209da53a5d30  \n",
       "2    0a41916c227cf908081548d26fcad961a5f00397  \n",
       "3    7641ed39d70f7ed6a52a1068b5c36f6c91c8d190  \n",
       "4    87a8179b8e103555fec80788c35221afd086662a  \n",
       "..                                        ...  \n",
       "353  5fd7ed7fb0f83565ea0aaaf5ff6104e5860be2d6  \n",
       "354  4c0f2ea879eefec1a18a93bcd8a382ea56cd452d  \n",
       "355  8a449023413eea473277416e9e30ae126c6af047  \n",
       "356  fe399466a3dfbe0221a18ed5cacb39a3882d72f8  \n",
       "357  5672debf187b183735be63f6bd85834ead0047ff  \n",
       "\n",
       "[358 rows x 25 columns]"
      ]
     },
     "execution_count": 195,
     "metadata": {},
     "output_type": "execute_result"
    }
   ],
   "source": [
    "pd.DataFrame(d)"
   ]
  },
  {
   "cell_type": "code",
   "execution_count": null,
   "metadata": {},
   "outputs": [],
   "source": []
  },
  {
   "cell_type": "code",
   "execution_count": null,
   "metadata": {},
   "outputs": [],
   "source": []
  },
  {
   "cell_type": "code",
   "execution_count": 196,
   "metadata": {},
   "outputs": [],
   "source": [
    "url = 'https://api.covidtracking.com/v1/us/current.json'\n",
    "\n",
    "response = requests.get(url)\n",
    "d = response.json()"
   ]
  },
  {
   "cell_type": "code",
   "execution_count": 197,
   "metadata": {},
   "outputs": [
    {
     "data": {
      "text/plain": [
       "[{'date': 20210104,\n",
       "  'states': 56,\n",
       "  'positive': 20560549,\n",
       "  'negative': 198034096,\n",
       "  'pending': 9463,\n",
       "  'hospitalizedCurrently': 128210,\n",
       "  'hospitalizedCumulative': 699971,\n",
       "  'inIcuCurrently': 23435,\n",
       "  'inIcuCumulative': 37586,\n",
       "  'onVentilatorCurrently': 7930,\n",
       "  'onVentilatorCumulative': 3692,\n",
       "  'recovered': 8299717,\n",
       "  'dateChecked': '2021-01-04T24:00:00Z',\n",
       "  'death': 344808,\n",
       "  'hospitalized': 699971,\n",
       "  'totalTestResults': 256914140,\n",
       "  'lastModified': '2021-01-04T24:00:00Z',\n",
       "  'total': 0,\n",
       "  'posNeg': 0,\n",
       "  'deathIncrease': 1545,\n",
       "  'hospitalizedIncrease': 4029,\n",
       "  'negativeIncrease': 1257838,\n",
       "  'positiveIncrease': 177669,\n",
       "  'totalTestResultsIncrease': 1638082,\n",
       "  'hash': '9a5d7bba3805b8932e540b0cfbc0ce782ef9b94c'}]"
      ]
     },
     "execution_count": 197,
     "metadata": {},
     "output_type": "execute_result"
    }
   ],
   "source": [
    "d"
   ]
  },
  {
   "cell_type": "code",
   "execution_count": null,
   "metadata": {},
   "outputs": [],
   "source": []
  },
  {
   "cell_type": "code",
   "execution_count": null,
   "metadata": {},
   "outputs": [],
   "source": []
  },
  {
   "cell_type": "code",
   "execution_count": null,
   "metadata": {},
   "outputs": [],
   "source": []
  },
  {
   "cell_type": "code",
   "execution_count": 202,
   "metadata": {},
   "outputs": [],
   "source": [
    "#url = 'https://api.covidtracking.com/v1/us/20200501.json'\n",
    "url = 'https://api.covidtracking.com/v1/states/daily.json'\n",
    "\n",
    "response = requests.get(url)\n",
    "d = response.json()"
   ]
  },
  {
   "cell_type": "code",
   "execution_count": 204,
   "metadata": {},
   "outputs": [
    {
     "data": {
      "text/html": [
       "<div>\n",
       "<style scoped>\n",
       "    .dataframe tbody tr th:only-of-type {\n",
       "        vertical-align: middle;\n",
       "    }\n",
       "\n",
       "    .dataframe tbody tr th {\n",
       "        vertical-align: top;\n",
       "    }\n",
       "\n",
       "    .dataframe thead th {\n",
       "        text-align: right;\n",
       "    }\n",
       "</style>\n",
       "<table border=\"1\" class=\"dataframe\">\n",
       "  <thead>\n",
       "    <tr style=\"text-align: right;\">\n",
       "      <th></th>\n",
       "      <th>date</th>\n",
       "      <th>state</th>\n",
       "      <th>positive</th>\n",
       "      <th>probableCases</th>\n",
       "      <th>negative</th>\n",
       "      <th>pending</th>\n",
       "      <th>totalTestResultsSource</th>\n",
       "      <th>totalTestResults</th>\n",
       "      <th>hospitalizedCurrently</th>\n",
       "      <th>hospitalizedCumulative</th>\n",
       "      <th>...</th>\n",
       "      <th>posNeg</th>\n",
       "      <th>deathIncrease</th>\n",
       "      <th>hospitalizedIncrease</th>\n",
       "      <th>hash</th>\n",
       "      <th>commercialScore</th>\n",
       "      <th>negativeRegularScore</th>\n",
       "      <th>negativeScore</th>\n",
       "      <th>positiveScore</th>\n",
       "      <th>score</th>\n",
       "      <th>grade</th>\n",
       "    </tr>\n",
       "  </thead>\n",
       "  <tbody>\n",
       "    <tr>\n",
       "      <th>0</th>\n",
       "      <td>20210104</td>\n",
       "      <td>AK</td>\n",
       "      <td>46812.0</td>\n",
       "      <td>NaN</td>\n",
       "      <td>1250686.0</td>\n",
       "      <td>NaN</td>\n",
       "      <td>totalTestsViral</td>\n",
       "      <td>1297498.0</td>\n",
       "      <td>97.0</td>\n",
       "      <td>1033.0</td>\n",
       "      <td>...</td>\n",
       "      <td>1297498</td>\n",
       "      <td>3</td>\n",
       "      <td>0</td>\n",
       "      <td>38c46f0e7665bfa2a088389162ae643ab0f7c47b</td>\n",
       "      <td>0</td>\n",
       "      <td>0</td>\n",
       "      <td>0</td>\n",
       "      <td>0</td>\n",
       "      <td>0</td>\n",
       "      <td></td>\n",
       "    </tr>\n",
       "    <tr>\n",
       "      <th>1</th>\n",
       "      <td>20210104</td>\n",
       "      <td>AL</td>\n",
       "      <td>374095.0</td>\n",
       "      <td>72609.0</td>\n",
       "      <td>1601902.0</td>\n",
       "      <td>NaN</td>\n",
       "      <td>totalTestsPeopleViral</td>\n",
       "      <td>1903388.0</td>\n",
       "      <td>3064.0</td>\n",
       "      <td>35430.0</td>\n",
       "      <td>...</td>\n",
       "      <td>1975997</td>\n",
       "      <td>5</td>\n",
       "      <td>1057</td>\n",
       "      <td>3a5911f450cc081cc151cac160ab040d8b156402</td>\n",
       "      <td>0</td>\n",
       "      <td>0</td>\n",
       "      <td>0</td>\n",
       "      <td>0</td>\n",
       "      <td>0</td>\n",
       "      <td></td>\n",
       "    </tr>\n",
       "    <tr>\n",
       "      <th>2</th>\n",
       "      <td>20210104</td>\n",
       "      <td>AR</td>\n",
       "      <td>234781.0</td>\n",
       "      <td>41126.0</td>\n",
       "      <td>1901966.0</td>\n",
       "      <td>NaN</td>\n",
       "      <td>totalTestsViral</td>\n",
       "      <td>2095621.0</td>\n",
       "      <td>1296.0</td>\n",
       "      <td>11514.0</td>\n",
       "      <td>...</td>\n",
       "      <td>2136747</td>\n",
       "      <td>51</td>\n",
       "      <td>0</td>\n",
       "      <td>c68de0e9a5cf79ae4a90e113ba1f80a7484916e7</td>\n",
       "      <td>0</td>\n",
       "      <td>0</td>\n",
       "      <td>0</td>\n",
       "      <td>0</td>\n",
       "      <td>0</td>\n",
       "      <td></td>\n",
       "    </tr>\n",
       "    <tr>\n",
       "      <th>3</th>\n",
       "      <td>20210104</td>\n",
       "      <td>AS</td>\n",
       "      <td>0.0</td>\n",
       "      <td>NaN</td>\n",
       "      <td>2140.0</td>\n",
       "      <td>NaN</td>\n",
       "      <td>totalTestsViral</td>\n",
       "      <td>2140.0</td>\n",
       "      <td>NaN</td>\n",
       "      <td>NaN</td>\n",
       "      <td>...</td>\n",
       "      <td>2140</td>\n",
       "      <td>0</td>\n",
       "      <td>0</td>\n",
       "      <td>ab3d7aae8a16bba4952e91bfe530f31564a0ee9e</td>\n",
       "      <td>0</td>\n",
       "      <td>0</td>\n",
       "      <td>0</td>\n",
       "      <td>0</td>\n",
       "      <td>0</td>\n",
       "      <td></td>\n",
       "    </tr>\n",
       "    <tr>\n",
       "      <th>4</th>\n",
       "      <td>20210104</td>\n",
       "      <td>AZ</td>\n",
       "      <td>561542.0</td>\n",
       "      <td>28267.0</td>\n",
       "      <td>2404314.0</td>\n",
       "      <td>NaN</td>\n",
       "      <td>totalTestsViral</td>\n",
       "      <td>5288658.0</td>\n",
       "      <td>4647.0</td>\n",
       "      <td>39897.0</td>\n",
       "      <td>...</td>\n",
       "      <td>2965856</td>\n",
       "      <td>3</td>\n",
       "      <td>169</td>\n",
       "      <td>a68db19ed7c33ed6c1b432cc88bea654e40710b6</td>\n",
       "      <td>0</td>\n",
       "      <td>0</td>\n",
       "      <td>0</td>\n",
       "      <td>0</td>\n",
       "      <td>0</td>\n",
       "      <td></td>\n",
       "    </tr>\n",
       "    <tr>\n",
       "      <th>...</th>\n",
       "      <td>...</td>\n",
       "      <td>...</td>\n",
       "      <td>...</td>\n",
       "      <td>...</td>\n",
       "      <td>...</td>\n",
       "      <td>...</td>\n",
       "      <td>...</td>\n",
       "      <td>...</td>\n",
       "      <td>...</td>\n",
       "      <td>...</td>\n",
       "      <td>...</td>\n",
       "      <td>...</td>\n",
       "      <td>...</td>\n",
       "      <td>...</td>\n",
       "      <td>...</td>\n",
       "      <td>...</td>\n",
       "      <td>...</td>\n",
       "      <td>...</td>\n",
       "      <td>...</td>\n",
       "      <td>...</td>\n",
       "      <td>...</td>\n",
       "    </tr>\n",
       "    <tr>\n",
       "      <th>17262</th>\n",
       "      <td>20200117</td>\n",
       "      <td>WA</td>\n",
       "      <td>0.0</td>\n",
       "      <td>NaN</td>\n",
       "      <td>NaN</td>\n",
       "      <td>NaN</td>\n",
       "      <td>totalTestEncountersViral</td>\n",
       "      <td>NaN</td>\n",
       "      <td>NaN</td>\n",
       "      <td>NaN</td>\n",
       "      <td>...</td>\n",
       "      <td>0</td>\n",
       "      <td>0</td>\n",
       "      <td>0</td>\n",
       "      <td>effcc7b17054638471dec2f2a9cdbd3229d92042</td>\n",
       "      <td>0</td>\n",
       "      <td>0</td>\n",
       "      <td>0</td>\n",
       "      <td>0</td>\n",
       "      <td>0</td>\n",
       "      <td></td>\n",
       "    </tr>\n",
       "    <tr>\n",
       "      <th>17263</th>\n",
       "      <td>20200116</td>\n",
       "      <td>WA</td>\n",
       "      <td>0.0</td>\n",
       "      <td>NaN</td>\n",
       "      <td>NaN</td>\n",
       "      <td>NaN</td>\n",
       "      <td>totalTestEncountersViral</td>\n",
       "      <td>NaN</td>\n",
       "      <td>NaN</td>\n",
       "      <td>NaN</td>\n",
       "      <td>...</td>\n",
       "      <td>0</td>\n",
       "      <td>0</td>\n",
       "      <td>0</td>\n",
       "      <td>d9453d58f00994cff1f81639e95e532d1dd10138</td>\n",
       "      <td>0</td>\n",
       "      <td>0</td>\n",
       "      <td>0</td>\n",
       "      <td>0</td>\n",
       "      <td>0</td>\n",
       "      <td></td>\n",
       "    </tr>\n",
       "    <tr>\n",
       "      <th>17264</th>\n",
       "      <td>20200115</td>\n",
       "      <td>WA</td>\n",
       "      <td>0.0</td>\n",
       "      <td>NaN</td>\n",
       "      <td>NaN</td>\n",
       "      <td>NaN</td>\n",
       "      <td>totalTestEncountersViral</td>\n",
       "      <td>NaN</td>\n",
       "      <td>NaN</td>\n",
       "      <td>NaN</td>\n",
       "      <td>...</td>\n",
       "      <td>0</td>\n",
       "      <td>0</td>\n",
       "      <td>0</td>\n",
       "      <td>bd1eef4afdffd883e37be1d3f321dc3b0e75f591</td>\n",
       "      <td>0</td>\n",
       "      <td>0</td>\n",
       "      <td>0</td>\n",
       "      <td>0</td>\n",
       "      <td>0</td>\n",
       "      <td></td>\n",
       "    </tr>\n",
       "    <tr>\n",
       "      <th>17265</th>\n",
       "      <td>20200114</td>\n",
       "      <td>WA</td>\n",
       "      <td>0.0</td>\n",
       "      <td>NaN</td>\n",
       "      <td>NaN</td>\n",
       "      <td>NaN</td>\n",
       "      <td>totalTestEncountersViral</td>\n",
       "      <td>NaN</td>\n",
       "      <td>NaN</td>\n",
       "      <td>NaN</td>\n",
       "      <td>...</td>\n",
       "      <td>0</td>\n",
       "      <td>0</td>\n",
       "      <td>0</td>\n",
       "      <td>84aeea9c6a284b151fdb42a863db3c0aadb651bf</td>\n",
       "      <td>0</td>\n",
       "      <td>0</td>\n",
       "      <td>0</td>\n",
       "      <td>0</td>\n",
       "      <td>0</td>\n",
       "      <td></td>\n",
       "    </tr>\n",
       "    <tr>\n",
       "      <th>17266</th>\n",
       "      <td>20200113</td>\n",
       "      <td>WA</td>\n",
       "      <td>NaN</td>\n",
       "      <td>NaN</td>\n",
       "      <td>NaN</td>\n",
       "      <td>NaN</td>\n",
       "      <td>totalTestEncountersViral</td>\n",
       "      <td>NaN</td>\n",
       "      <td>NaN</td>\n",
       "      <td>NaN</td>\n",
       "      <td>...</td>\n",
       "      <td>0</td>\n",
       "      <td>0</td>\n",
       "      <td>0</td>\n",
       "      <td>4b278ad9e69da1c2a818f761c25f10c4bb6bf2a7</td>\n",
       "      <td>0</td>\n",
       "      <td>0</td>\n",
       "      <td>0</td>\n",
       "      <td>0</td>\n",
       "      <td>0</td>\n",
       "      <td></td>\n",
       "    </tr>\n",
       "  </tbody>\n",
       "</table>\n",
       "<p>17267 rows × 55 columns</p>\n",
       "</div>"
      ],
      "text/plain": [
       "           date state  positive  probableCases   negative  pending  \\\n",
       "0      20210104    AK   46812.0            NaN  1250686.0      NaN   \n",
       "1      20210104    AL  374095.0        72609.0  1601902.0      NaN   \n",
       "2      20210104    AR  234781.0        41126.0  1901966.0      NaN   \n",
       "3      20210104    AS       0.0            NaN     2140.0      NaN   \n",
       "4      20210104    AZ  561542.0        28267.0  2404314.0      NaN   \n",
       "...         ...   ...       ...            ...        ...      ...   \n",
       "17262  20200117    WA       0.0            NaN        NaN      NaN   \n",
       "17263  20200116    WA       0.0            NaN        NaN      NaN   \n",
       "17264  20200115    WA       0.0            NaN        NaN      NaN   \n",
       "17265  20200114    WA       0.0            NaN        NaN      NaN   \n",
       "17266  20200113    WA       NaN            NaN        NaN      NaN   \n",
       "\n",
       "         totalTestResultsSource  totalTestResults  hospitalizedCurrently  \\\n",
       "0               totalTestsViral         1297498.0                   97.0   \n",
       "1         totalTestsPeopleViral         1903388.0                 3064.0   \n",
       "2               totalTestsViral         2095621.0                 1296.0   \n",
       "3               totalTestsViral            2140.0                    NaN   \n",
       "4               totalTestsViral         5288658.0                 4647.0   \n",
       "...                         ...               ...                    ...   \n",
       "17262  totalTestEncountersViral               NaN                    NaN   \n",
       "17263  totalTestEncountersViral               NaN                    NaN   \n",
       "17264  totalTestEncountersViral               NaN                    NaN   \n",
       "17265  totalTestEncountersViral               NaN                    NaN   \n",
       "17266  totalTestEncountersViral               NaN                    NaN   \n",
       "\n",
       "       hospitalizedCumulative  ...   posNeg  deathIncrease  \\\n",
       "0                      1033.0  ...  1297498              3   \n",
       "1                     35430.0  ...  1975997              5   \n",
       "2                     11514.0  ...  2136747             51   \n",
       "3                         NaN  ...     2140              0   \n",
       "4                     39897.0  ...  2965856              3   \n",
       "...                       ...  ...      ...            ...   \n",
       "17262                     NaN  ...        0              0   \n",
       "17263                     NaN  ...        0              0   \n",
       "17264                     NaN  ...        0              0   \n",
       "17265                     NaN  ...        0              0   \n",
       "17266                     NaN  ...        0              0   \n",
       "\n",
       "       hospitalizedIncrease                                      hash  \\\n",
       "0                         0  38c46f0e7665bfa2a088389162ae643ab0f7c47b   \n",
       "1                      1057  3a5911f450cc081cc151cac160ab040d8b156402   \n",
       "2                         0  c68de0e9a5cf79ae4a90e113ba1f80a7484916e7   \n",
       "3                         0  ab3d7aae8a16bba4952e91bfe530f31564a0ee9e   \n",
       "4                       169  a68db19ed7c33ed6c1b432cc88bea654e40710b6   \n",
       "...                     ...                                       ...   \n",
       "17262                     0  effcc7b17054638471dec2f2a9cdbd3229d92042   \n",
       "17263                     0  d9453d58f00994cff1f81639e95e532d1dd10138   \n",
       "17264                     0  bd1eef4afdffd883e37be1d3f321dc3b0e75f591   \n",
       "17265                     0  84aeea9c6a284b151fdb42a863db3c0aadb651bf   \n",
       "17266                     0  4b278ad9e69da1c2a818f761c25f10c4bb6bf2a7   \n",
       "\n",
       "       commercialScore negativeRegularScore negativeScore positiveScore score  \\\n",
       "0                    0                    0             0             0     0   \n",
       "1                    0                    0             0             0     0   \n",
       "2                    0                    0             0             0     0   \n",
       "3                    0                    0             0             0     0   \n",
       "4                    0                    0             0             0     0   \n",
       "...                ...                  ...           ...           ...   ...   \n",
       "17262                0                    0             0             0     0   \n",
       "17263                0                    0             0             0     0   \n",
       "17264                0                    0             0             0     0   \n",
       "17265                0                    0             0             0     0   \n",
       "17266                0                    0             0             0     0   \n",
       "\n",
       "       grade  \n",
       "0             \n",
       "1             \n",
       "2             \n",
       "3             \n",
       "4             \n",
       "...      ...  \n",
       "17262         \n",
       "17263         \n",
       "17264         \n",
       "17265         \n",
       "17266         \n",
       "\n",
       "[17267 rows x 55 columns]"
      ]
     },
     "execution_count": 204,
     "metadata": {},
     "output_type": "execute_result"
    }
   ],
   "source": [
    "pd.DataFrame(d)"
   ]
  },
  {
   "cell_type": "code",
   "execution_count": null,
   "metadata": {},
   "outputs": [],
   "source": []
  },
  {
   "cell_type": "code",
   "execution_count": 209,
   "metadata": {},
   "outputs": [],
   "source": [
    "df = pd.read_excel('default of credit card clients.xls',  index_col=0, header=1)"
   ]
  },
  {
   "cell_type": "code",
   "execution_count": 214,
   "metadata": {},
   "outputs": [
    {
     "data": {
      "text/plain": [
       "Index(['LIMIT_BAL', 'SEX', 'EDUCATION', 'MARRIAGE', 'AGE', 'PAY_0', 'PAY_2',\n",
       "       'PAY_3', 'PAY_4', 'PAY_5', 'PAY_6', 'BILL_AMT1', 'BILL_AMT2',\n",
       "       'BILL_AMT3', 'BILL_AMT4', 'BILL_AMT5', 'BILL_AMT6', 'PAY_AMT1',\n",
       "       'PAY_AMT2', 'PAY_AMT3', 'PAY_AMT4', 'PAY_AMT5', 'PAY_AMT6',\n",
       "       'default payment next month'],\n",
       "      dtype='object')"
      ]
     },
     "execution_count": 214,
     "metadata": {},
     "output_type": "execute_result"
    }
   ],
   "source": [
    "df.columns"
   ]
  },
  {
   "cell_type": "code",
   "execution_count": 215,
   "metadata": {},
   "outputs": [
    {
     "data": {
      "text/html": [
       "<div>\n",
       "<style scoped>\n",
       "    .dataframe tbody tr th:only-of-type {\n",
       "        vertical-align: middle;\n",
       "    }\n",
       "\n",
       "    .dataframe tbody tr th {\n",
       "        vertical-align: top;\n",
       "    }\n",
       "\n",
       "    .dataframe thead th {\n",
       "        text-align: right;\n",
       "    }\n",
       "</style>\n",
       "<table border=\"1\" class=\"dataframe\">\n",
       "  <thead>\n",
       "    <tr style=\"text-align: right;\">\n",
       "      <th></th>\n",
       "      <th>LIMIT_BAL</th>\n",
       "      <th>SEX</th>\n",
       "      <th>EDUCATION</th>\n",
       "      <th>MARRIAGE</th>\n",
       "      <th>AGE</th>\n",
       "      <th>PAY_0</th>\n",
       "      <th>PAY_2</th>\n",
       "      <th>PAY_3</th>\n",
       "      <th>PAY_4</th>\n",
       "      <th>PAY_5</th>\n",
       "      <th>...</th>\n",
       "      <th>BILL_AMT4</th>\n",
       "      <th>BILL_AMT5</th>\n",
       "      <th>BILL_AMT6</th>\n",
       "      <th>PAY_AMT1</th>\n",
       "      <th>PAY_AMT2</th>\n",
       "      <th>PAY_AMT3</th>\n",
       "      <th>PAY_AMT4</th>\n",
       "      <th>PAY_AMT5</th>\n",
       "      <th>PAY_AMT6</th>\n",
       "      <th>default payment next month</th>\n",
       "    </tr>\n",
       "    <tr>\n",
       "      <th>ID</th>\n",
       "      <th></th>\n",
       "      <th></th>\n",
       "      <th></th>\n",
       "      <th></th>\n",
       "      <th></th>\n",
       "      <th></th>\n",
       "      <th></th>\n",
       "      <th></th>\n",
       "      <th></th>\n",
       "      <th></th>\n",
       "      <th></th>\n",
       "      <th></th>\n",
       "      <th></th>\n",
       "      <th></th>\n",
       "      <th></th>\n",
       "      <th></th>\n",
       "      <th></th>\n",
       "      <th></th>\n",
       "      <th></th>\n",
       "      <th></th>\n",
       "      <th></th>\n",
       "    </tr>\n",
       "  </thead>\n",
       "  <tbody>\n",
       "    <tr>\n",
       "      <th>1</th>\n",
       "      <td>20000</td>\n",
       "      <td>2</td>\n",
       "      <td>2</td>\n",
       "      <td>1</td>\n",
       "      <td>24</td>\n",
       "      <td>2</td>\n",
       "      <td>2</td>\n",
       "      <td>-1</td>\n",
       "      <td>-1</td>\n",
       "      <td>-2</td>\n",
       "      <td>...</td>\n",
       "      <td>0</td>\n",
       "      <td>0</td>\n",
       "      <td>0</td>\n",
       "      <td>0</td>\n",
       "      <td>689</td>\n",
       "      <td>0</td>\n",
       "      <td>0</td>\n",
       "      <td>0</td>\n",
       "      <td>0</td>\n",
       "      <td>1</td>\n",
       "    </tr>\n",
       "    <tr>\n",
       "      <th>2</th>\n",
       "      <td>120000</td>\n",
       "      <td>2</td>\n",
       "      <td>2</td>\n",
       "      <td>2</td>\n",
       "      <td>26</td>\n",
       "      <td>-1</td>\n",
       "      <td>2</td>\n",
       "      <td>0</td>\n",
       "      <td>0</td>\n",
       "      <td>0</td>\n",
       "      <td>...</td>\n",
       "      <td>3272</td>\n",
       "      <td>3455</td>\n",
       "      <td>3261</td>\n",
       "      <td>0</td>\n",
       "      <td>1000</td>\n",
       "      <td>1000</td>\n",
       "      <td>1000</td>\n",
       "      <td>0</td>\n",
       "      <td>2000</td>\n",
       "      <td>1</td>\n",
       "    </tr>\n",
       "    <tr>\n",
       "      <th>3</th>\n",
       "      <td>90000</td>\n",
       "      <td>2</td>\n",
       "      <td>2</td>\n",
       "      <td>2</td>\n",
       "      <td>34</td>\n",
       "      <td>0</td>\n",
       "      <td>0</td>\n",
       "      <td>0</td>\n",
       "      <td>0</td>\n",
       "      <td>0</td>\n",
       "      <td>...</td>\n",
       "      <td>14331</td>\n",
       "      <td>14948</td>\n",
       "      <td>15549</td>\n",
       "      <td>1518</td>\n",
       "      <td>1500</td>\n",
       "      <td>1000</td>\n",
       "      <td>1000</td>\n",
       "      <td>1000</td>\n",
       "      <td>5000</td>\n",
       "      <td>0</td>\n",
       "    </tr>\n",
       "    <tr>\n",
       "      <th>4</th>\n",
       "      <td>50000</td>\n",
       "      <td>2</td>\n",
       "      <td>2</td>\n",
       "      <td>1</td>\n",
       "      <td>37</td>\n",
       "      <td>0</td>\n",
       "      <td>0</td>\n",
       "      <td>0</td>\n",
       "      <td>0</td>\n",
       "      <td>0</td>\n",
       "      <td>...</td>\n",
       "      <td>28314</td>\n",
       "      <td>28959</td>\n",
       "      <td>29547</td>\n",
       "      <td>2000</td>\n",
       "      <td>2019</td>\n",
       "      <td>1200</td>\n",
       "      <td>1100</td>\n",
       "      <td>1069</td>\n",
       "      <td>1000</td>\n",
       "      <td>0</td>\n",
       "    </tr>\n",
       "    <tr>\n",
       "      <th>5</th>\n",
       "      <td>50000</td>\n",
       "      <td>1</td>\n",
       "      <td>2</td>\n",
       "      <td>1</td>\n",
       "      <td>57</td>\n",
       "      <td>-1</td>\n",
       "      <td>0</td>\n",
       "      <td>-1</td>\n",
       "      <td>0</td>\n",
       "      <td>0</td>\n",
       "      <td>...</td>\n",
       "      <td>20940</td>\n",
       "      <td>19146</td>\n",
       "      <td>19131</td>\n",
       "      <td>2000</td>\n",
       "      <td>36681</td>\n",
       "      <td>10000</td>\n",
       "      <td>9000</td>\n",
       "      <td>689</td>\n",
       "      <td>679</td>\n",
       "      <td>0</td>\n",
       "    </tr>\n",
       "    <tr>\n",
       "      <th>...</th>\n",
       "      <td>...</td>\n",
       "      <td>...</td>\n",
       "      <td>...</td>\n",
       "      <td>...</td>\n",
       "      <td>...</td>\n",
       "      <td>...</td>\n",
       "      <td>...</td>\n",
       "      <td>...</td>\n",
       "      <td>...</td>\n",
       "      <td>...</td>\n",
       "      <td>...</td>\n",
       "      <td>...</td>\n",
       "      <td>...</td>\n",
       "      <td>...</td>\n",
       "      <td>...</td>\n",
       "      <td>...</td>\n",
       "      <td>...</td>\n",
       "      <td>...</td>\n",
       "      <td>...</td>\n",
       "      <td>...</td>\n",
       "      <td>...</td>\n",
       "    </tr>\n",
       "    <tr>\n",
       "      <th>29996</th>\n",
       "      <td>220000</td>\n",
       "      <td>1</td>\n",
       "      <td>3</td>\n",
       "      <td>1</td>\n",
       "      <td>39</td>\n",
       "      <td>0</td>\n",
       "      <td>0</td>\n",
       "      <td>0</td>\n",
       "      <td>0</td>\n",
       "      <td>0</td>\n",
       "      <td>...</td>\n",
       "      <td>88004</td>\n",
       "      <td>31237</td>\n",
       "      <td>15980</td>\n",
       "      <td>8500</td>\n",
       "      <td>20000</td>\n",
       "      <td>5003</td>\n",
       "      <td>3047</td>\n",
       "      <td>5000</td>\n",
       "      <td>1000</td>\n",
       "      <td>0</td>\n",
       "    </tr>\n",
       "    <tr>\n",
       "      <th>29997</th>\n",
       "      <td>150000</td>\n",
       "      <td>1</td>\n",
       "      <td>3</td>\n",
       "      <td>2</td>\n",
       "      <td>43</td>\n",
       "      <td>-1</td>\n",
       "      <td>-1</td>\n",
       "      <td>-1</td>\n",
       "      <td>-1</td>\n",
       "      <td>0</td>\n",
       "      <td>...</td>\n",
       "      <td>8979</td>\n",
       "      <td>5190</td>\n",
       "      <td>0</td>\n",
       "      <td>1837</td>\n",
       "      <td>3526</td>\n",
       "      <td>8998</td>\n",
       "      <td>129</td>\n",
       "      <td>0</td>\n",
       "      <td>0</td>\n",
       "      <td>0</td>\n",
       "    </tr>\n",
       "    <tr>\n",
       "      <th>29998</th>\n",
       "      <td>30000</td>\n",
       "      <td>1</td>\n",
       "      <td>2</td>\n",
       "      <td>2</td>\n",
       "      <td>37</td>\n",
       "      <td>4</td>\n",
       "      <td>3</td>\n",
       "      <td>2</td>\n",
       "      <td>-1</td>\n",
       "      <td>0</td>\n",
       "      <td>...</td>\n",
       "      <td>20878</td>\n",
       "      <td>20582</td>\n",
       "      <td>19357</td>\n",
       "      <td>0</td>\n",
       "      <td>0</td>\n",
       "      <td>22000</td>\n",
       "      <td>4200</td>\n",
       "      <td>2000</td>\n",
       "      <td>3100</td>\n",
       "      <td>1</td>\n",
       "    </tr>\n",
       "    <tr>\n",
       "      <th>29999</th>\n",
       "      <td>80000</td>\n",
       "      <td>1</td>\n",
       "      <td>3</td>\n",
       "      <td>1</td>\n",
       "      <td>41</td>\n",
       "      <td>1</td>\n",
       "      <td>-1</td>\n",
       "      <td>0</td>\n",
       "      <td>0</td>\n",
       "      <td>0</td>\n",
       "      <td>...</td>\n",
       "      <td>52774</td>\n",
       "      <td>11855</td>\n",
       "      <td>48944</td>\n",
       "      <td>85900</td>\n",
       "      <td>3409</td>\n",
       "      <td>1178</td>\n",
       "      <td>1926</td>\n",
       "      <td>52964</td>\n",
       "      <td>1804</td>\n",
       "      <td>1</td>\n",
       "    </tr>\n",
       "    <tr>\n",
       "      <th>30000</th>\n",
       "      <td>50000</td>\n",
       "      <td>1</td>\n",
       "      <td>2</td>\n",
       "      <td>1</td>\n",
       "      <td>46</td>\n",
       "      <td>0</td>\n",
       "      <td>0</td>\n",
       "      <td>0</td>\n",
       "      <td>0</td>\n",
       "      <td>0</td>\n",
       "      <td>...</td>\n",
       "      <td>36535</td>\n",
       "      <td>32428</td>\n",
       "      <td>15313</td>\n",
       "      <td>2078</td>\n",
       "      <td>1800</td>\n",
       "      <td>1430</td>\n",
       "      <td>1000</td>\n",
       "      <td>1000</td>\n",
       "      <td>1000</td>\n",
       "      <td>1</td>\n",
       "    </tr>\n",
       "  </tbody>\n",
       "</table>\n",
       "<p>30000 rows × 24 columns</p>\n",
       "</div>"
      ],
      "text/plain": [
       "       LIMIT_BAL  SEX  EDUCATION  MARRIAGE  AGE  PAY_0  PAY_2  PAY_3  PAY_4  \\\n",
       "ID                                                                            \n",
       "1          20000    2          2         1   24      2      2     -1     -1   \n",
       "2         120000    2          2         2   26     -1      2      0      0   \n",
       "3          90000    2          2         2   34      0      0      0      0   \n",
       "4          50000    2          2         1   37      0      0      0      0   \n",
       "5          50000    1          2         1   57     -1      0     -1      0   \n",
       "...          ...  ...        ...       ...  ...    ...    ...    ...    ...   \n",
       "29996     220000    1          3         1   39      0      0      0      0   \n",
       "29997     150000    1          3         2   43     -1     -1     -1     -1   \n",
       "29998      30000    1          2         2   37      4      3      2     -1   \n",
       "29999      80000    1          3         1   41      1     -1      0      0   \n",
       "30000      50000    1          2         1   46      0      0      0      0   \n",
       "\n",
       "       PAY_5  ...  BILL_AMT4  BILL_AMT5  BILL_AMT6  PAY_AMT1  PAY_AMT2  \\\n",
       "ID            ...                                                        \n",
       "1         -2  ...          0          0          0         0       689   \n",
       "2          0  ...       3272       3455       3261         0      1000   \n",
       "3          0  ...      14331      14948      15549      1518      1500   \n",
       "4          0  ...      28314      28959      29547      2000      2019   \n",
       "5          0  ...      20940      19146      19131      2000     36681   \n",
       "...      ...  ...        ...        ...        ...       ...       ...   \n",
       "29996      0  ...      88004      31237      15980      8500     20000   \n",
       "29997      0  ...       8979       5190          0      1837      3526   \n",
       "29998      0  ...      20878      20582      19357         0         0   \n",
       "29999      0  ...      52774      11855      48944     85900      3409   \n",
       "30000      0  ...      36535      32428      15313      2078      1800   \n",
       "\n",
       "       PAY_AMT3  PAY_AMT4  PAY_AMT5  PAY_AMT6  default payment next month  \n",
       "ID                                                                         \n",
       "1             0         0         0         0                           1  \n",
       "2          1000      1000         0      2000                           1  \n",
       "3          1000      1000      1000      5000                           0  \n",
       "4          1200      1100      1069      1000                           0  \n",
       "5         10000      9000       689       679                           0  \n",
       "...         ...       ...       ...       ...                         ...  \n",
       "29996      5003      3047      5000      1000                           0  \n",
       "29997      8998       129         0         0                           0  \n",
       "29998     22000      4200      2000      3100                           1  \n",
       "29999      1178      1926     52964      1804                           1  \n",
       "30000      1430      1000      1000      1000                           1  \n",
       "\n",
       "[30000 rows x 24 columns]"
      ]
     },
     "execution_count": 215,
     "metadata": {},
     "output_type": "execute_result"
    }
   ],
   "source": [
    "df"
   ]
  },
  {
   "cell_type": "code",
   "execution_count": null,
   "metadata": {},
   "outputs": [],
   "source": []
  },
  {
   "cell_type": "code",
   "execution_count": null,
   "metadata": {},
   "outputs": [],
   "source": []
  },
  {
   "cell_type": "code",
   "execution_count": null,
   "metadata": {},
   "outputs": [],
   "source": []
  },
  {
   "cell_type": "code",
   "execution_count": null,
   "metadata": {},
   "outputs": [],
   "source": []
  },
  {
   "cell_type": "code",
   "execution_count": null,
   "metadata": {},
   "outputs": [],
   "source": []
  },
  {
   "cell_type": "markdown",
   "metadata": {},
   "source": [
    "## API"
   ]
  },
  {
   "cell_type": "markdown",
   "metadata": {},
   "source": [
    "https://cord19.vespa.ai"
   ]
  },
  {
   "cell_type": "code",
   "execution_count": null,
   "metadata": {},
   "outputs": [],
   "source": []
  },
  {
   "cell_type": "code",
   "execution_count": null,
   "metadata": {},
   "outputs": [],
   "source": []
  },
  {
   "cell_type": "code",
   "execution_count": null,
   "metadata": {},
   "outputs": [],
   "source": []
  },
  {
   "cell_type": "code",
   "execution_count": null,
   "metadata": {},
   "outputs": [],
   "source": []
  },
  {
   "cell_type": "markdown",
   "metadata": {},
   "source": [
    "## Zip API"
   ]
  },
  {
   "cell_type": "markdown",
   "metadata": {},
   "source": [
    "https://www.programmableweb.com/api/zip-api-us"
   ]
  },
  {
   "cell_type": "code",
   "execution_count": 133,
   "metadata": {},
   "outputs": [],
   "source": [
    "from requests.auth import HTTPBasicAuth"
   ]
  },
  {
   "cell_type": "code",
   "execution_count": null,
   "metadata": {},
   "outputs": [],
   "source": [
    "f = open('api.json')\n",
    "api_key = json.load(f)"
   ]
  },
  {
   "cell_type": "code",
   "execution_count": 164,
   "metadata": {},
   "outputs": [],
   "source": [
    "url = f\"https://service.zipapi.us/hospital/radius/11367?X-API-KEY={api_key['zip_api']['api']}\"\n",
    "\n",
    "params = {  \n",
    "            'radius': 20\n",
    "          }\n",
    "\n",
    "response = requests.get(url, params,  auth=HTTPBasicAuth(api_key['zip_api']['email'], api_key['zip_api']['password']))\n",
    "d = response.json()"
   ]
  },
  {
   "cell_type": "code",
   "execution_count": null,
   "metadata": {},
   "outputs": [],
   "source": []
  },
  {
   "cell_type": "code",
   "execution_count": 169,
   "metadata": {},
   "outputs": [
    {
     "data": {
      "text/html": [
       "<div>\n",
       "<style scoped>\n",
       "    .dataframe tbody tr th:only-of-type {\n",
       "        vertical-align: middle;\n",
       "    }\n",
       "\n",
       "    .dataframe tbody tr th {\n",
       "        vertical-align: top;\n",
       "    }\n",
       "\n",
       "    .dataframe thead th {\n",
       "        text-align: right;\n",
       "    }\n",
       "</style>\n",
       "<table border=\"1\" class=\"dataframe\">\n",
       "  <thead>\n",
       "    <tr style=\"text-align: right;\">\n",
       "      <th></th>\n",
       "      <th>Zip</th>\n",
       "      <th>Name</th>\n",
       "      <th>Address</th>\n",
       "      <th>City</th>\n",
       "      <th>State</th>\n",
       "      <th>telephone</th>\n",
       "      <th>latitude</th>\n",
       "      <th>longitude</th>\n",
       "      <th>website</th>\n",
       "      <th>beds</th>\n",
       "      <th>naics_desc</th>\n",
       "      <th>helipad</th>\n",
       "      <th>population</th>\n",
       "      <th>county</th>\n",
       "      <th>distance</th>\n",
       "    </tr>\n",
       "  </thead>\n",
       "  <tbody>\n",
       "    <tr>\n",
       "      <th>0</th>\n",
       "      <td>11355</td>\n",
       "      <td>NEW YORK HOSPITAL QUEENS</td>\n",
       "      <td>56 45 MAIN ST</td>\n",
       "      <td>FLUSHING</td>\n",
       "      <td>NY</td>\n",
       "      <td>(718) 670-2000</td>\n",
       "      <td>40.7467722760001</td>\n",
       "      <td>-73.8254163829999</td>\n",
       "      <td>http://www.nyhq.org/</td>\n",
       "      <td>519</td>\n",
       "      <td>GENERAL MEDICAL AND SURGICAL HOSPITALS</td>\n",
       "      <td>N</td>\n",
       "      <td>519</td>\n",
       "      <td>QUEENS</td>\n",
       "      <td>1.2056043406980474</td>\n",
       "    </tr>\n",
       "    <tr>\n",
       "      <th>1</th>\n",
       "      <td>11375</td>\n",
       "      <td>FOREST HILLS HOSPITAL</td>\n",
       "      <td>102-01 66 ROAD</td>\n",
       "      <td>FOREST HILLS</td>\n",
       "      <td>NY</td>\n",
       "      <td>(516) 562-4060</td>\n",
       "      <td>40.7289946700001</td>\n",
       "      <td>-73.8515067069999</td>\n",
       "      <td>https://www.northwell.edu/find-care/locations/...</td>\n",
       "      <td>222</td>\n",
       "      <td>GENERAL MEDICAL AND SURGICAL HOSPITALS</td>\n",
       "      <td>N</td>\n",
       "      <td>222</td>\n",
       "      <td>QUEENS</td>\n",
       "      <td>1.2667295458905368</td>\n",
       "    </tr>\n",
       "    <tr>\n",
       "      <th>2</th>\n",
       "      <td>11432</td>\n",
       "      <td>QUEENS HOSPITAL CENTER</td>\n",
       "      <td>82-68 164TH ST</td>\n",
       "      <td>JAMAICA</td>\n",
       "      <td>NY</td>\n",
       "      <td>(718) 883-2350</td>\n",
       "      <td>40.7170722130001</td>\n",
       "      <td>-73.804556192</td>\n",
       "      <td>http://www.nyc.gov/html/hhc/qhc/html/home/home...</td>\n",
       "      <td>247</td>\n",
       "      <td>GENERAL MEDICAL AND SURGICAL HOSPITALS</td>\n",
       "      <td>N</td>\n",
       "      <td>247</td>\n",
       "      <td>QUEENS</td>\n",
       "      <td>1.464323443176699</td>\n",
       "    </tr>\n",
       "    <tr>\n",
       "      <th>3</th>\n",
       "      <td>11355</td>\n",
       "      <td>FLUSHING HOSPITAL MEDICAL CENTER</td>\n",
       "      <td>45 TH AVE &amp; PARSONS BLVD</td>\n",
       "      <td>FLUSHING</td>\n",
       "      <td>NY</td>\n",
       "      <td>(718) 670-5918</td>\n",
       "      <td>40.7554099230001</td>\n",
       "      <td>-73.816465518</td>\n",
       "      <td>http://www.flushinghospital.org</td>\n",
       "      <td>293</td>\n",
       "      <td>GENERAL MEDICAL AND SURGICAL HOSPITALS</td>\n",
       "      <td>N</td>\n",
       "      <td>293</td>\n",
       "      <td>QUEENS</td>\n",
       "      <td>1.8859069570899702</td>\n",
       "    </tr>\n",
       "    <tr>\n",
       "      <th>4</th>\n",
       "      <td>11414</td>\n",
       "      <td>JAMAICA HOSPITAL MEDICAL CENTER</td>\n",
       "      <td>8900 VAN WYCK EXPRESSWAY</td>\n",
       "      <td>JAMAICA</td>\n",
       "      <td>NY</td>\n",
       "      <td>(718) 206-6000</td>\n",
       "      <td>40.700103647</td>\n",
       "      <td>-73.816114892</td>\n",
       "      <td>http://jamaicahospital.org/</td>\n",
       "      <td>408</td>\n",
       "      <td>GENERAL MEDICAL AND SURGICAL HOSPITALS</td>\n",
       "      <td>N</td>\n",
       "      <td>408</td>\n",
       "      <td>QUEENS</td>\n",
       "      <td>2.1063832945759255</td>\n",
       "    </tr>\n",
       "    <tr>\n",
       "      <th>...</th>\n",
       "      <td>...</td>\n",
       "      <td>...</td>\n",
       "      <td>...</td>\n",
       "      <td>...</td>\n",
       "      <td>...</td>\n",
       "      <td>...</td>\n",
       "      <td>...</td>\n",
       "      <td>...</td>\n",
       "      <td>...</td>\n",
       "      <td>...</td>\n",
       "      <td>...</td>\n",
       "      <td>...</td>\n",
       "      <td>...</td>\n",
       "      <td>...</td>\n",
       "      <td>...</td>\n",
       "    </tr>\n",
       "    <tr>\n",
       "      <th>117</th>\n",
       "      <td>07107</td>\n",
       "      <td>COLUMBUS HOSPITAL</td>\n",
       "      <td>495 NORTH 13TH STREET</td>\n",
       "      <td>NEWARK</td>\n",
       "      <td>NJ</td>\n",
       "      <td>(973) 587-7712</td>\n",
       "      <td>40.772604012</td>\n",
       "      <td>-74.1867090869999</td>\n",
       "      <td>http://www.columbusltach.org</td>\n",
       "      <td>63</td>\n",
       "      <td>SPECIALTY (EXCEPT PSYCHIATRIC AND SUBSTANCE AB...</td>\n",
       "      <td>N</td>\n",
       "      <td>63</td>\n",
       "      <td>ESSEX</td>\n",
       "      <td>19.046704035393592</td>\n",
       "    </tr>\n",
       "    <tr>\n",
       "      <th>118</th>\n",
       "      <td>07103</td>\n",
       "      <td>THE UNIVERSITY HOSPITAL</td>\n",
       "      <td>150 BERGEN STREET</td>\n",
       "      <td>NEWARK</td>\n",
       "      <td>NJ</td>\n",
       "      <td>(973) 972-5658</td>\n",
       "      <td>40.740603133</td>\n",
       "      <td>-74.191061732</td>\n",
       "      <td>http://www.uhnj.org/</td>\n",
       "      <td>519</td>\n",
       "      <td>GENERAL MEDICAL AND SURGICAL HOSPITALS</td>\n",
       "      <td>Y</td>\n",
       "      <td>519</td>\n",
       "      <td>ESSEX</td>\n",
       "      <td>19.05932172210713</td>\n",
       "    </tr>\n",
       "    <tr>\n",
       "      <th>119</th>\n",
       "      <td>10522</td>\n",
       "      <td>ST. JOHN'S RIVERSIDE HOSPITAL - DOBBS FERRY</td>\n",
       "      <td>128 ASHFORD AVE</td>\n",
       "      <td>DOBBS FERRY</td>\n",
       "      <td>NY</td>\n",
       "      <td>(914) 693-0700</td>\n",
       "      <td>41.014392248</td>\n",
       "      <td>-73.861919649</td>\n",
       "      <td>http://www.riversidehealth.org</td>\n",
       "      <td>12</td>\n",
       "      <td>GENERAL MEDICAL AND SURGICAL HOSPITALS</td>\n",
       "      <td>N</td>\n",
       "      <td>12</td>\n",
       "      <td>WESTCHESTER</td>\n",
       "      <td>19.775034789331748</td>\n",
       "    </tr>\n",
       "    <tr>\n",
       "      <th>120</th>\n",
       "      <td>07652</td>\n",
       "      <td>BERGEN REGIONAL MEDICAL CENTER</td>\n",
       "      <td>230 EAST RIDGEWOOD AVENUE</td>\n",
       "      <td>PARAMUS</td>\n",
       "      <td>NJ</td>\n",
       "      <td>(201) 967-4000</td>\n",
       "      <td>40.956667775</td>\n",
       "      <td>-74.0629917159999</td>\n",
       "      <td>http://www.bergenregional.com</td>\n",
       "      <td>510</td>\n",
       "      <td>GENERAL MEDICAL AND SURGICAL HOSPITALS</td>\n",
       "      <td>N</td>\n",
       "      <td>510</td>\n",
       "      <td>BERGEN</td>\n",
       "      <td>19.95883250040654</td>\n",
       "    </tr>\n",
       "    <tr>\n",
       "      <th>121</th>\n",
       "      <td>07206</td>\n",
       "      <td>TRINITAS HOSPITAL - NEW POINT CAMPUS</td>\n",
       "      <td>655 EAST JERSEY STREET</td>\n",
       "      <td>ELIZABETH</td>\n",
       "      <td>NJ</td>\n",
       "      <td>(908) 527-5000</td>\n",
       "      <td>40.659108964</td>\n",
       "      <td>-74.197587997</td>\n",
       "      <td>http://www.trinitashospital.com</td>\n",
       "      <td>60</td>\n",
       "      <td>GENERAL MEDICAL AND SURGICAL HOSPITALS</td>\n",
       "      <td>N</td>\n",
       "      <td>60</td>\n",
       "      <td>UNION</td>\n",
       "      <td>19.995566977277683</td>\n",
       "    </tr>\n",
       "  </tbody>\n",
       "</table>\n",
       "<p>122 rows × 15 columns</p>\n",
       "</div>"
      ],
      "text/plain": [
       "       Zip                                         Name  \\\n",
       "0    11355                     NEW YORK HOSPITAL QUEENS   \n",
       "1    11375                        FOREST HILLS HOSPITAL   \n",
       "2    11432                       QUEENS HOSPITAL CENTER   \n",
       "3    11355             FLUSHING HOSPITAL MEDICAL CENTER   \n",
       "4    11414              JAMAICA HOSPITAL MEDICAL CENTER   \n",
       "..     ...                                          ...   \n",
       "117  07107                            COLUMBUS HOSPITAL   \n",
       "118  07103                      THE UNIVERSITY HOSPITAL   \n",
       "119  10522  ST. JOHN'S RIVERSIDE HOSPITAL - DOBBS FERRY   \n",
       "120  07652               BERGEN REGIONAL MEDICAL CENTER   \n",
       "121  07206         TRINITAS HOSPITAL - NEW POINT CAMPUS   \n",
       "\n",
       "                       Address          City State       telephone  \\\n",
       "0                56 45 MAIN ST      FLUSHING    NY  (718) 670-2000   \n",
       "1               102-01 66 ROAD  FOREST HILLS    NY  (516) 562-4060   \n",
       "2               82-68 164TH ST       JAMAICA    NY  (718) 883-2350   \n",
       "3     45 TH AVE & PARSONS BLVD      FLUSHING    NY  (718) 670-5918   \n",
       "4     8900 VAN WYCK EXPRESSWAY       JAMAICA    NY  (718) 206-6000   \n",
       "..                         ...           ...   ...             ...   \n",
       "117      495 NORTH 13TH STREET        NEWARK    NJ  (973) 587-7712   \n",
       "118          150 BERGEN STREET        NEWARK    NJ  (973) 972-5658   \n",
       "119            128 ASHFORD AVE   DOBBS FERRY    NY  (914) 693-0700   \n",
       "120  230 EAST RIDGEWOOD AVENUE       PARAMUS    NJ  (201) 967-4000   \n",
       "121     655 EAST JERSEY STREET     ELIZABETH    NJ  (908) 527-5000   \n",
       "\n",
       "             latitude          longitude  \\\n",
       "0    40.7467722760001  -73.8254163829999   \n",
       "1    40.7289946700001  -73.8515067069999   \n",
       "2    40.7170722130001      -73.804556192   \n",
       "3    40.7554099230001      -73.816465518   \n",
       "4        40.700103647      -73.816114892   \n",
       "..                ...                ...   \n",
       "117      40.772604012  -74.1867090869999   \n",
       "118      40.740603133      -74.191061732   \n",
       "119      41.014392248      -73.861919649   \n",
       "120      40.956667775  -74.0629917159999   \n",
       "121      40.659108964      -74.197587997   \n",
       "\n",
       "                                               website beds  \\\n",
       "0                                 http://www.nyhq.org/  519   \n",
       "1    https://www.northwell.edu/find-care/locations/...  222   \n",
       "2    http://www.nyc.gov/html/hhc/qhc/html/home/home...  247   \n",
       "3                      http://www.flushinghospital.org  293   \n",
       "4                          http://jamaicahospital.org/  408   \n",
       "..                                                 ...  ...   \n",
       "117                       http://www.columbusltach.org   63   \n",
       "118                               http://www.uhnj.org/  519   \n",
       "119                     http://www.riversidehealth.org   12   \n",
       "120                      http://www.bergenregional.com  510   \n",
       "121                    http://www.trinitashospital.com   60   \n",
       "\n",
       "                                            naics_desc helipad population  \\\n",
       "0               GENERAL MEDICAL AND SURGICAL HOSPITALS       N        519   \n",
       "1               GENERAL MEDICAL AND SURGICAL HOSPITALS       N        222   \n",
       "2               GENERAL MEDICAL AND SURGICAL HOSPITALS       N        247   \n",
       "3               GENERAL MEDICAL AND SURGICAL HOSPITALS       N        293   \n",
       "4               GENERAL MEDICAL AND SURGICAL HOSPITALS       N        408   \n",
       "..                                                 ...     ...        ...   \n",
       "117  SPECIALTY (EXCEPT PSYCHIATRIC AND SUBSTANCE AB...       N         63   \n",
       "118             GENERAL MEDICAL AND SURGICAL HOSPITALS       Y        519   \n",
       "119             GENERAL MEDICAL AND SURGICAL HOSPITALS       N         12   \n",
       "120             GENERAL MEDICAL AND SURGICAL HOSPITALS       N        510   \n",
       "121             GENERAL MEDICAL AND SURGICAL HOSPITALS       N         60   \n",
       "\n",
       "          county            distance  \n",
       "0         QUEENS  1.2056043406980474  \n",
       "1         QUEENS  1.2667295458905368  \n",
       "2         QUEENS   1.464323443176699  \n",
       "3         QUEENS  1.8859069570899702  \n",
       "4         QUEENS  2.1063832945759255  \n",
       "..           ...                 ...  \n",
       "117        ESSEX  19.046704035393592  \n",
       "118        ESSEX   19.05932172210713  \n",
       "119  WESTCHESTER  19.775034789331748  \n",
       "120       BERGEN   19.95883250040654  \n",
       "121        UNION  19.995566977277683  \n",
       "\n",
       "[122 rows x 15 columns]"
      ]
     },
     "execution_count": 169,
     "metadata": {},
     "output_type": "execute_result"
    }
   ],
   "source": [
    "pd.DataFrame(d['data'])"
   ]
  },
  {
   "cell_type": "code",
   "execution_count": 181,
   "metadata": {},
   "outputs": [],
   "source": [
    "url = f\"https://service.zipapi.us/age/zipcode/11367?X-API-KEY={api_key['zip_api']['api']}\"\n",
    "\n",
    "# params = {  \n",
    "#             'fields': ['male_age','female_age']\n",
    "#           }\n",
    "\n",
    "response = requests.get(url, params,  auth=HTTPBasicAuth(api_key['zip_api']['email'], api_key['zip_api']['password']))\n",
    "d = response.json()"
   ]
  },
  {
   "cell_type": "code",
   "execution_count": null,
   "metadata": {},
   "outputs": [],
   "source": []
  },
  {
   "cell_type": "code",
   "execution_count": 182,
   "metadata": {},
   "outputs": [
    {
     "data": {
      "text/plain": [
       "{'status': True,\n",
       " 'data': {'median_age': '34.2', 'male_age': '32.1', 'female_age': '36.3'}}"
      ]
     },
     "execution_count": 182,
     "metadata": {},
     "output_type": "execute_result"
    }
   ],
   "source": [
    "d"
   ]
  },
  {
   "cell_type": "code",
   "execution_count": null,
   "metadata": {},
   "outputs": [],
   "source": []
  },
  {
   "cell_type": "code",
   "execution_count": null,
   "metadata": {},
   "outputs": [],
   "source": []
  },
  {
   "cell_type": "code",
   "execution_count": null,
   "metadata": {},
   "outputs": [],
   "source": []
  },
  {
   "cell_type": "markdown",
   "metadata": {},
   "source": [
    "## Web Scraping"
   ]
  },
  {
   "cell_type": "code",
   "execution_count": null,
   "metadata": {},
   "outputs": [],
   "source": []
  },
  {
   "cell_type": "code",
   "execution_count": null,
   "metadata": {},
   "outputs": [],
   "source": []
  },
  {
   "cell_type": "markdown",
   "metadata": {},
   "source": [
    "# Modeling"
   ]
  },
  {
   "cell_type": "code",
   "execution_count": null,
   "metadata": {},
   "outputs": [],
   "source": []
  },
  {
   "cell_type": "markdown",
   "metadata": {},
   "source": [
    "## ARIMA"
   ]
  },
  {
   "cell_type": "code",
   "execution_count": 113,
   "metadata": {},
   "outputs": [],
   "source": [
    "from statsmodels.graphics.tsaplots import plot_acf, plot_pacf\n",
    "from statsmodels.tsa.stattools import adfuller\n",
    "from statsmodels.tsa.arima_model import ARMA, ARIMA\n",
    "from statsmodels.tsa.stattools import adfuller\n",
    "from statsmodels.tsa.seasonal import seasonal_decompose\n",
    "\n",
    "import requests\n",
    "import pandas as pd\n",
    "import matplotlib.pyplot as plt\n",
    "import seaborn as sns\n",
    "\n",
    "from pandas.plotting import register_matplotlib_converters\n",
    "register_matplotlib_converters()"
   ]
  },
  {
   "cell_type": "code",
   "execution_count": null,
   "metadata": {},
   "outputs": [],
   "source": []
  },
  {
   "cell_type": "code",
   "execution_count": 2,
   "metadata": {},
   "outputs": [],
   "source": [
    "url = 'https://api.covidtracking.com/v1/us/daily.json'\n",
    "response = requests.get(url)\n",
    "d = response.json()\n",
    "df = pd.DataFrame(d)\n",
    "df['date'] = pd.to_datetime(df.date, format='%Y%m%d')\n",
    "df.set_index('date', inplace=True)"
   ]
  },
  {
   "cell_type": "code",
   "execution_count": 24,
   "metadata": {},
   "outputs": [
    {
     "data": {
      "image/png": "[encoded data removed]",
      "text/plain": [
       "<Figure size 1440x288 with 4 Axes>"
      ]
     },
     "metadata": {
      "needs_background": "light"
     },
     "output_type": "display_data"
    }
   ],
   "source": [
    "deaths = pd.DataFrame(df.death, index=df.index)\n",
    "pos = pd.DataFrame(df.positive, index=df.index)\n",
    "hosp = pd.DataFrame(df.hospitalizedCurrently, index=df.index)\n",
    "icu = pd.DataFrame(df.inIcuCurrently, index=df.index)\n",
    "\n",
    "deaths.ffill(inplace=True)\n",
    "pos.ffill(inplace=True)\n",
    "hosp.ffill(inplace=True)\n",
    "icu.ffill(inplace=True)\n",
    "\n",
    "fig, axs = plt.subplots(2, 2, figsize=(20,4))\n",
    "axs[0, 0].plot(deaths)\n",
    "axs[0, 0].set_title('deaths')\n",
    "axs[1, 0].plot(pos)\n",
    "axs[1, 0].set_title('pos')\n",
    "axs[0, 1].plot(hosp)\n",
    "axs[0, 1].set_title('hosp')\n",
    "axs[1, 1].plot(icu)\n",
    "axs[1, 1].set_title('icu')\n",
    "plt.subplots_adjust(hspace = 0.5)\n",
    "plt.show()"
   ]
  },
  {
   "cell_type": "code",
   "execution_count": 39,
   "metadata": {},
   "outputs": [],
   "source": [
    "# deaths_weekly = deaths.resample('W')\n",
    "# pos_weekly = pos.resample('W')\n",
    "# hosp_weekly = hosp.resample('W')\n",
    "# icu_weekly = icu.resample('W')\n",
    "\n",
    "# deaths_weekly_mean = deaths_weekly.mean()\n",
    "# pos_weekly_mean = pos_weekly.mean()\n",
    "# hosp_weekly_mean = hosp_weekly.mean()\n",
    "# icu_weekly_mean = icu_weekly.mean()\n",
    "\n",
    "# fig, axs = plt.subplots(2, 2, figsize=(20,4))\n",
    "# axs[0, 0].plot(deaths_weekly_mean)\n",
    "# axs[0, 0].set_title('deaths_weekly_mean')\n",
    "# axs[1, 0].plot(pos_weekly_mean)\n",
    "# axs[1, 0].set_title('pos_weekly_mean')\n",
    "# axs[0, 1].plot(hosp_weekly_mean)\n",
    "# axs[0, 1].set_title('hosp_weekly_mean')\n",
    "# axs[1, 1].plot(icu_weekly_mean)\n",
    "# axs[1, 1].set_title('icu_weekly_mean')\n",
    "# plt.subplots_adjust(hspace = 0.5)\n",
    "# plt.show()"
   ]
  },
  {
   "cell_type": "code",
   "execution_count": 132,
   "metadata": {},
   "outputs": [
    {
     "name": "stdout",
     "output_type": "stream",
     "text": [
      "Results of Dickey-Fuller Test: \n",
      "\n",
      "Test Statistic                  -2.380662\n",
      "p-value                          0.147269\n",
      "#Lags Used                      15.000000\n",
      "Number of Observations Used    364.000000\n",
      "Critical Value (1%)             -3.448443\n",
      "Critical Value (5%)             -2.869513\n",
      "Critical Value (10%)            -2.571018\n",
      "dtype: float64\n"
     ]
    }
   ],
   "source": [
    "# Perform Dickey-Fuller test:\n",
    "print ('Results of Dickey-Fuller Test: \\n')\n",
    "dftest = adfuller(data_minus_exp_roll_mean)\n",
    "\n",
    "# Extract and display test results in a user friendly manner\n",
    "dfoutput = pd.Series(dftest[0:4], index=['Test Statistic', 'p-value', '#Lags Used', 'Number of Observations Used'])\n",
    "for key,value in dftest[4].items():\n",
    "    dfoutput['Critical Value (%s)'%key] = value\n",
    "print(dfoutput)"
   ]
  },
  {
   "cell_type": "code",
   "execution_count": 85,
   "metadata": {},
   "outputs": [],
   "source": [
    "# Determine rolling statistics\n",
    "roll_mean = deaths.rolling(window=3).mean()\n",
    "roll_std = deaths.rolling(window=3).std()"
   ]
  },
  {
   "cell_type": "code",
   "execution_count": 86,
   "metadata": {},
   "outputs": [
    {
     "data": {
      "image/png": "[encoded data removed]",
      "text/plain": [
       "<Figure size 864x432 with 1 Axes>"
      ]
     },
     "metadata": {
      "needs_background": "light"
     },
     "output_type": "display_data"
    }
   ],
   "source": [
    "# Plot rolling statistics\n",
    "fig = plt.figure(figsize=(12,6))\n",
    "plt.plot(deaths, color='blue',label='Original')\n",
    "plt.plot(roll_mean, color='red', label='Rolling Mean')\n",
    "plt.plot(roll_std, color='black', label = 'Rolling Std')\n",
    "plt.legend(loc='best')\n",
    "plt.title('Rolling Mean & Standard Deviation')\n",
    "plt.show()"
   ]
  },
  {
   "cell_type": "code",
   "execution_count": 104,
   "metadata": {},
   "outputs": [
    {
     "data": {
      "text/html": [
       "<div>\n",
       "<style scoped>\n",
       "    .dataframe tbody tr th:only-of-type {\n",
       "        vertical-align: middle;\n",
       "    }\n",
       "\n",
       "    .dataframe tbody tr th {\n",
       "        vertical-align: top;\n",
       "    }\n",
       "\n",
       "    .dataframe thead th {\n",
       "        text-align: right;\n",
       "    }\n",
       "</style>\n",
       "<table border=\"1\" class=\"dataframe\">\n",
       "  <thead>\n",
       "    <tr style=\"text-align: right;\">\n",
       "      <th></th>\n",
       "      <th>death</th>\n",
       "    </tr>\n",
       "    <tr>\n",
       "      <th>date</th>\n",
       "      <th></th>\n",
       "    </tr>\n",
       "  </thead>\n",
       "  <tbody>\n",
       "    <tr>\n",
       "      <th>2021-01-26</th>\n",
       "      <td>NaN</td>\n",
       "    </tr>\n",
       "    <tr>\n",
       "      <th>2021-01-25</th>\n",
       "      <td>NaN</td>\n",
       "    </tr>\n",
       "    <tr>\n",
       "      <th>2021-01-24</th>\n",
       "      <td>-2306.666667</td>\n",
       "    </tr>\n",
       "    <tr>\n",
       "      <th>2021-01-23</th>\n",
       "      <td>-1827.000000</td>\n",
       "    </tr>\n",
       "    <tr>\n",
       "      <th>2021-01-22</th>\n",
       "      <td>-3042.000000</td>\n",
       "    </tr>\n",
       "    <tr>\n",
       "      <th>2021-01-21</th>\n",
       "      <td>-3850.333333</td>\n",
       "    </tr>\n",
       "    <tr>\n",
       "      <th>2021-01-20</th>\n",
       "      <td>-3912.000000</td>\n",
       "    </tr>\n",
       "    <tr>\n",
       "      <th>2021-01-19</th>\n",
       "      <td>-4232.000000</td>\n",
       "    </tr>\n",
       "    <tr>\n",
       "      <th>2021-01-18</th>\n",
       "      <td>-2897.000000</td>\n",
       "    </tr>\n",
       "    <tr>\n",
       "      <th>2021-01-17</th>\n",
       "      <td>-1643.666667</td>\n",
       "    </tr>\n",
       "  </tbody>\n",
       "</table>\n",
       "</div>"
      ],
      "text/plain": [
       "                  death\n",
       "date                   \n",
       "2021-01-26          NaN\n",
       "2021-01-25          NaN\n",
       "2021-01-24 -2306.666667\n",
       "2021-01-23 -1827.000000\n",
       "2021-01-22 -3042.000000\n",
       "2021-01-21 -3850.333333\n",
       "2021-01-20 -3912.000000\n",
       "2021-01-19 -4232.000000\n",
       "2021-01-18 -2897.000000\n",
       "2021-01-17 -1643.666667"
      ]
     },
     "execution_count": 104,
     "metadata": {},
     "output_type": "execute_result"
    }
   ],
   "source": [
    "# Subtract the moving average from the log transformed data\n",
    "data_minus_roll_mean = deaths - roll_mean\n",
    "\n",
    "# Print the first 10 rows\n",
    "data_minus_roll_mean.head(10)"
   ]
  },
  {
   "cell_type": "code",
   "execution_count": 122,
   "metadata": {},
   "outputs": [],
   "source": [
    "# Drop the missing values\n",
    "data_minus_roll_mean.dropna(inplace=True)"
   ]
  },
  {
   "cell_type": "code",
   "execution_count": 105,
   "metadata": {},
   "outputs": [
    {
     "data": {
      "image/png": "[encoded data removed]",
      "text/plain": [
       "<Figure size 792x504 with 1 Axes>"
      ]
     },
     "metadata": {
      "needs_background": "light"
     },
     "output_type": "display_data"
    }
   ],
   "source": [
    "fig = plt.figure(figsize=(11,7))\n",
    "plt.plot(data_minus_roll_mean, color='blue',label='Deaths - rolling mean')\n",
    "plt.legend(loc='best')\n",
    "plt.show(block=False)"
   ]
  },
  {
   "cell_type": "code",
   "execution_count": 109,
   "metadata": {},
   "outputs": [
    {
     "data": {
      "image/png": "[encoded data removed]",
      "text/plain": [
       "<Figure size 864x504 with 1 Axes>"
      ]
     },
     "metadata": {
      "needs_background": "light"
     },
     "output_type": "display_data"
    }
   ],
   "source": [
    "# Calculate Weighted Moving Average of log transformed data\n",
    "exp_roll_mean = deaths.ewm(halflife=4).mean()\n",
    "\n",
    "# Plot the original data with exp weighted average\n",
    "fig = plt.figure(figsize=(12,7))\n",
    "plt.plot(deaths, color='blue',label='Original')\n",
    "plt.plot(exp_roll_mean, color='red', label='Exponentially Weighted Rolling Mean')\n",
    "plt.legend(loc='best')\n",
    "plt.show(block=False)"
   ]
  },
  {
   "cell_type": "code",
   "execution_count": 110,
   "metadata": {},
   "outputs": [
    {
     "data": {
      "image/png": "[encoded data removed]",
      "text/plain": [
       "<Figure size 792x504 with 1 Axes>"
      ]
     },
     "metadata": {
      "needs_background": "light"
     },
     "output_type": "display_data"
    }
   ],
   "source": [
    "# Subtract the moving average from the original data and check head for Nans\n",
    "data_minus_exp_roll_mean = deaths - exp_roll_mean\n",
    "\n",
    "# Plot the time series\n",
    "fig = plt.figure(figsize=(11,7))\n",
    "plt.plot(data_minus_exp_roll_mean, color='blue',label='Deaths - weighted rolling mean')\n",
    "plt.legend(loc='best')\n",
    "plt.show(block=False)"
   ]
  },
  {
   "cell_type": "code",
   "execution_count": 127,
   "metadata": {},
   "outputs": [
    {
     "name": "stderr",
     "output_type": "stream",
     "text": [
      "/Users/elliotmacy/opt/anaconda3/envs/learn-env/lib/python3.6/site-packages/ipykernel_launcher.py:2: RuntimeWarning: divide by zero encountered in log\n",
      "  \n"
     ]
    },
    {
     "data": {
      "image/png": "[encoded data removed]",
      "text/plain": [
       "<Figure size 864x432 with 1 Axes>"
      ]
     },
     "metadata": {
      "needs_background": "light"
     },
     "output_type": "display_data"
    }
   ],
   "source": [
    "# Plot a log transform\n",
    "deaths_log = np.log(deaths)\n",
    "fig = plt.figure(figsize=(12,6))\n",
    "plt.plot(deaths_log, color='blue');"
   ]
  },
  {
   "cell_type": "code",
   "execution_count": 111,
   "metadata": {},
   "outputs": [
    {
     "data": {
      "text/html": [
       "<div>\n",
       "<style scoped>\n",
       "    .dataframe tbody tr th:only-of-type {\n",
       "        vertical-align: middle;\n",
       "    }\n",
       "\n",
       "    .dataframe tbody tr th {\n",
       "        vertical-align: top;\n",
       "    }\n",
       "\n",
       "    .dataframe thead th {\n",
       "        text-align: right;\n",
       "    }\n",
       "</style>\n",
       "<table border=\"1\" class=\"dataframe\">\n",
       "  <thead>\n",
       "    <tr style=\"text-align: right;\">\n",
       "      <th></th>\n",
       "      <th>death</th>\n",
       "    </tr>\n",
       "    <tr>\n",
       "      <th>date</th>\n",
       "      <th></th>\n",
       "    </tr>\n",
       "  </thead>\n",
       "  <tbody>\n",
       "    <tr>\n",
       "      <th>2021-01-25</th>\n",
       "      <td>-1705.640355</td>\n",
       "    </tr>\n",
       "    <tr>\n",
       "      <th>2021-01-24</th>\n",
       "      <td>-298.401799</td>\n",
       "    </tr>\n",
       "    <tr>\n",
       "      <th>2021-01-23</th>\n",
       "      <td>-687.704681</td>\n",
       "    </tr>\n",
       "    <tr>\n",
       "      <th>2021-01-22</th>\n",
       "      <td>-1866.205846</td>\n",
       "    </tr>\n",
       "    <tr>\n",
       "      <th>2021-01-21</th>\n",
       "      <td>-1878.637168</td>\n",
       "    </tr>\n",
       "    <tr>\n",
       "      <th>2021-01-20</th>\n",
       "      <td>-1542.590331</td>\n",
       "    </tr>\n",
       "    <tr>\n",
       "      <th>2021-01-19</th>\n",
       "      <td>-1780.994833</td>\n",
       "    </tr>\n",
       "    <tr>\n",
       "      <th>2021-01-18</th>\n",
       "      <td>256.540386</td>\n",
       "    </tr>\n",
       "    <tr>\n",
       "      <th>2021-01-17</th>\n",
       "      <td>711.368744</td>\n",
       "    </tr>\n",
       "    <tr>\n",
       "      <th>2021-01-16</th>\n",
       "      <td>-26.192597</td>\n",
       "    </tr>\n",
       "    <tr>\n",
       "      <th>2021-01-15</th>\n",
       "      <td>-1431.098798</td>\n",
       "    </tr>\n",
       "    <tr>\n",
       "      <th>2021-01-14</th>\n",
       "      <td>-1202.619132</td>\n",
       "    </tr>\n",
       "    <tr>\n",
       "      <th>2021-01-13</th>\n",
       "      <td>-1232.966649</td>\n",
       "    </tr>\n",
       "    <tr>\n",
       "      <th>2021-01-12</th>\n",
       "      <td>-1204.228653</td>\n",
       "    </tr>\n",
       "    <tr>\n",
       "      <th>2021-01-11</th>\n",
       "      <td>-1017.124482</td>\n",
       "    </tr>\n",
       "  </tbody>\n",
       "</table>\n",
       "</div>"
      ],
      "text/plain": [
       "                  death\n",
       "date                   \n",
       "2021-01-25 -1705.640355\n",
       "2021-01-24  -298.401799\n",
       "2021-01-23  -687.704681\n",
       "2021-01-22 -1866.205846\n",
       "2021-01-21 -1878.637168\n",
       "2021-01-20 -1542.590331\n",
       "2021-01-19 -1780.994833\n",
       "2021-01-18   256.540386\n",
       "2021-01-17   711.368744\n",
       "2021-01-16   -26.192597\n",
       "2021-01-15 -1431.098798\n",
       "2021-01-14 -1202.619132\n",
       "2021-01-13 -1232.966649\n",
       "2021-01-12 -1204.228653\n",
       "2021-01-11 -1017.124482"
      ]
     },
     "execution_count": 111,
     "metadata": {},
     "output_type": "execute_result"
    }
   ],
   "source": [
    "# Difference your data\n",
    "data_diff = data_minus_exp_roll_mean.diff(periods=1)\n",
    "\n",
    "# Drop the missing values\n",
    "data_diff.dropna(inplace=True)\n",
    "\n",
    "# Check out the first few rows\n",
    "data_diff.head(15)"
   ]
  },
  {
   "cell_type": "code",
   "execution_count": 112,
   "metadata": {},
   "outputs": [
    {
     "data": {
      "image/png": "[encoded data removed]",
      "text/plain": [
       "<Figure size 792x504 with 1 Axes>"
      ]
     },
     "metadata": {
      "needs_background": "light"
     },
     "output_type": "display_data"
    }
   ],
   "source": [
    "fig = plt.figure(figsize=(11,7))\n",
    "plt.plot(data_diff, color='blue',label='Deaths - rolling mean')\n",
    "plt.legend(loc='best')\n",
    "plt.title('Differenced deaths series')\n",
    "plt.show(block=False)"
   ]
  },
  {
   "cell_type": "code",
   "execution_count": 115,
   "metadata": {},
   "outputs": [
    {
     "data": {
      "image/png": "[encoded data removed]",
      "text/plain": [
       "<Figure size 864x576 with 4 Axes>"
      ]
     },
     "metadata": {
      "needs_background": "light"
     },
     "output_type": "display_data"
    }
   ],
   "source": [
    "# Apply seasonal_decompose()\n",
    "decomposition = seasonal_decompose(deaths)\n",
    "\n",
    "# Gather the trend, seasonality, and residuals \n",
    "trend = decomposition.trend\n",
    "seasonal = decomposition.seasonal\n",
    "residual = decomposition.resid\n",
    "\n",
    "# Plot gathered statistics\n",
    "plt.figure(figsize=(12,8))\n",
    "plt.subplot(411)\n",
    "plt.plot(deaths, label='Original', color='blue')\n",
    "plt.legend(loc='best')\n",
    "plt.subplot(412)\n",
    "plt.plot(trend, label='Trend', color='blue')\n",
    "plt.legend(loc='best')\n",
    "plt.subplot(413)\n",
    "plt.plot(seasonal,label='Seasonality', color='blue')\n",
    "plt.legend(loc='best')\n",
    "plt.subplot(414)\n",
    "plt.plot(residual, label='Residuals', color='blue')\n",
    "plt.legend(loc='best')\n",
    "plt.tight_layout()"
   ]
  },
  {
   "cell_type": "code",
   "execution_count": 133,
   "metadata": {},
   "outputs": [
    {
     "data": {
      "image/png": "[encoded data removed]",
      "text/plain": [
       "<Figure size 432x288 with 1 Axes>"
      ]
     },
     "metadata": {
      "needs_background": "light"
     },
     "output_type": "display_data"
    }
   ],
   "source": [
    "#plot autocorrelation for each lag (alpha is confidence interval)\n",
    "plot_acf(hosp, alpha=.05);"
   ]
  },
  {
   "cell_type": "code",
   "execution_count": 134,
   "metadata": {},
   "outputs": [
    {
     "data": {
      "image/png": "[encoded data removed]",
      "text/plain": [
       "<Figure size 432x288 with 1 Axes>"
      ]
     },
     "metadata": {
      "needs_background": "light"
     },
     "output_type": "display_data"
    }
   ],
   "source": [
    "plot_pacf(hosp, alpha=.05, lags=10);"
   ]
  },
  {
   "cell_type": "code",
   "execution_count": 101,
   "metadata": {},
   "outputs": [
    {
     "name": "stdout",
     "output_type": "stream",
     "text": [
      "                              ARMA Model Results                              \n",
      "==============================================================================\n",
      "Dep. Variable:                  death   No. Observations:                  380\n",
      "Model:                     ARMA(1, 0)   Log Likelihood               -3314.661\n",
      "Method:                       css-mle   S.D. of innovations           1464.916\n",
      "Date:                Wed, 27 Jan 2021   AIC                           6635.321\n",
      "Time:                        09:57:21   BIC                           6647.142\n",
      "Sample:                             0   HQIC                          6640.012\n",
      "                                                                              \n",
      "===============================================================================\n",
      "                  coef    std err          z      P>|z|      [0.025      0.975]\n",
      "-------------------------------------------------------------------------------\n",
      "const       -5.606e+04        nan        nan        nan         nan         nan\n",
      "ar.L1.death     1.0000        nan        nan        nan         nan         nan\n",
      "                                    Roots                                    \n",
      "=============================================================================\n",
      "                  Real          Imaginary           Modulus         Frequency\n",
      "-----------------------------------------------------------------------------\n",
      "AR.1            1.0000           +0.0000j            1.0000            0.0000\n",
      "-----------------------------------------------------------------------------\n"
     ]
    },
    {
     "name": "stderr",
     "output_type": "stream",
     "text": [
      "/Users/elliotmacy/opt/anaconda3/envs/learn-env/lib/python3.6/site-packages/statsmodels/tsa/base/tsa_model.py:162: ValueWarning: No frequency information was provided, so inferred frequency -1D will be used.\n",
      "  % freq, ValueWarning)\n",
      "/Users/elliotmacy/opt/anaconda3/envs/learn-env/lib/python3.6/site-packages/statsmodels/tsa/base/tsa_model.py:222: ValueWarning: A date index has been provided, but it is not monotonic and so will be ignored when e.g. forecasting.\n",
      "  ' forecasting.', ValueWarning)\n",
      "/Users/elliotmacy/opt/anaconda3/envs/learn-env/lib/python3.6/site-packages/statsmodels/base/model.py:548: HessianInversionWarning: Inverting hessian failed, no bse or cov_params available\n",
      "  'available', HessianInversionWarning)\n",
      "/Users/elliotmacy/opt/anaconda3/envs/learn-env/lib/python3.6/site-packages/statsmodels/tsa/arima_model.py:1490: RuntimeWarning: invalid value encountered in sqrt\n",
      "  return np.sqrt(np.diag(-inv(hess)))\n"
     ]
    }
   ],
   "source": [
    "# Fit an ARMA(1,0) model\n",
    "mod_arma = ARMA(deaths, order=(1,0))\n",
    "res_arma = mod_arma.fit()\n",
    "\n",
    "# Print out summary information on the fit\n",
    "print(res_arma.summary())"
   ]
  },
  {
   "cell_type": "code",
   "execution_count": 186,
   "metadata": {},
   "outputs": [],
   "source": [
    "residual.dropna(inplace=True)"
   ]
  },
  {
   "cell_type": "code",
   "execution_count": 187,
   "metadata": {},
   "outputs": [
    {
     "name": "stderr",
     "output_type": "stream",
     "text": [
      "/Users/elliotmacy/opt/anaconda3/envs/learn-env/lib/python3.6/site-packages/statsmodels/tsa/base/tsa_model.py:162: ValueWarning: No frequency information was provided, so inferred frequency -1D will be used.\n",
      "  % freq, ValueWarning)\n",
      "/Users/elliotmacy/opt/anaconda3/envs/learn-env/lib/python3.6/site-packages/statsmodels/tsa/base/tsa_model.py:222: ValueWarning: A date index has been provided, but it is not monotonic and so will be ignored when e.g. forecasting.\n",
      "  ' forecasting.', ValueWarning)\n",
      "/Users/elliotmacy/opt/anaconda3/envs/learn-env/lib/python3.6/site-packages/statsmodels/tsa/base/tsa_model.py:162: ValueWarning: No frequency information was provided, so inferred frequency -1D will be used.\n",
      "  % freq, ValueWarning)\n",
      "/Users/elliotmacy/opt/anaconda3/envs/learn-env/lib/python3.6/site-packages/statsmodels/tsa/base/tsa_model.py:222: ValueWarning: A date index has been provided, but it is not monotonic and so will be ignored when e.g. forecasting.\n",
      "  ' forecasting.', ValueWarning)\n"
     ]
    },
    {
     "name": "stdout",
     "output_type": "stream",
     "text": [
      "                             ARIMA Model Results                              \n",
      "==============================================================================\n",
      "Dep. Variable:               D2.resid   No. Observations:                  372\n",
      "Model:                 ARIMA(5, 2, 2)   Log Likelihood               -2423.207\n",
      "Method:                       css-mle   S.D. of innovations            160.154\n",
      "Date:                Wed, 27 Jan 2021   AIC                           4864.415\n",
      "Time:                        16:27:15   BIC                           4899.685\n",
      "Sample:                             2   HQIC                          4878.422\n",
      "                                                                              \n",
      "==================================================================================\n",
      "                     coef    std err          z      P>|z|      [0.025      0.975]\n",
      "----------------------------------------------------------------------------------\n",
      "const              0.0021      0.019      0.111      0.912      -0.035       0.039\n",
      "ar.L1.D2.resid     0.2115      0.068      3.095      0.002       0.078       0.345\n",
      "ar.L2.D2.resid    -0.5479      0.044    -12.327      0.000      -0.635      -0.461\n",
      "ar.L3.D2.resid    -0.4219      0.053     -8.007      0.000      -0.525      -0.319\n",
      "ar.L4.D2.resid    -0.1646      0.047     -3.513      0.000      -0.256      -0.073\n",
      "ar.L5.D2.resid    -0.5643      0.056    -10.098      0.000      -0.674      -0.455\n",
      "ma.L1.D2.resid    -1.4028      0.083    -16.913      0.000      -1.565      -1.240\n",
      "ma.L2.D2.resid     0.4028      0.083      4.871      0.000       0.241       0.565\n",
      "                                    Roots                                    \n",
      "=============================================================================\n",
      "                  Real          Imaginary           Modulus         Frequency\n",
      "-----------------------------------------------------------------------------\n",
      "AR.1            0.6573           -0.7738j            1.0153           -0.1379\n",
      "AR.2            0.6573           +0.7738j            1.0153            0.1379\n",
      "AR.3           -1.2460           -0.0000j            1.2460           -0.5000\n",
      "AR.4           -0.1802           -1.1607j            1.1746           -0.2745\n",
      "AR.5           -0.1802           +1.1607j            1.1746            0.2745\n",
      "MA.1            1.0000           +0.0000j            1.0000            0.0000\n",
      "MA.2            2.4827           +0.0000j            2.4827            0.0000\n",
      "-----------------------------------------------------------------------------\n"
     ]
    }
   ],
   "source": [
    "model = ARIMA(residual, order=(5,2,2))\n",
    "model_fit = model.fit(disp=0)\n",
    "print(model_fit.summary())"
   ]
  },
  {
   "cell_type": "code",
   "execution_count": 70,
   "metadata": {},
   "outputs": [
    {
     "data": {
      "image/png": "[encoded data removed]",
      "text/plain": [
       "<Figure size 432x288 with 1 Axes>"
      ]
     },
     "metadata": {
      "needs_background": "light"
     },
     "output_type": "display_data"
    }
   ],
   "source": [
    "residuals = pd.DataFrame(model_fit.resid)\n",
    "residuals.plot()\n",
    "plt.show()"
   ]
  },
  {
   "cell_type": "code",
   "execution_count": 71,
   "metadata": {},
   "outputs": [
    {
     "data": {
      "image/png": "[encoded data removed]",
      "text/plain": [
       "<Figure size 432x288 with 1 Axes>"
      ]
     },
     "metadata": {
      "needs_background": "light"
     },
     "output_type": "display_data"
    }
   ],
   "source": [
    "residuals = pd.DataFrame(model_fit.resid)\n",
    "residuals.plot(kind='kde')\n",
    "plt.show()"
   ]
  },
  {
   "cell_type": "code",
   "execution_count": 182,
   "metadata": {},
   "outputs": [
    {
     "name": "stderr",
     "output_type": "stream",
     "text": [
      "/Users/elliotmacy/opt/anaconda3/envs/learn-env/lib/python3.6/site-packages/statsmodels/tsa/base/tsa_model.py:583: ValueWarning: No supported index is available. Prediction results will be given with an integer index beginning at `start`.\n",
      "  ValueWarning)\n",
      "/Users/elliotmacy/opt/anaconda3/envs/learn-env/lib/python3.6/site-packages/statsmodels/tsa/base/tsa_model.py:583: ValueWarning: No supported index is available. Prediction results will be given with an integer index beginning at `start`.\n",
      "  ValueWarning)\n",
      "/Users/elliotmacy/opt/anaconda3/envs/learn-env/lib/python3.6/site-packages/statsmodels/tsa/base/tsa_model.py:583: ValueWarning: No supported index is available. Prediction results will be given with an integer index beginning at `start`.\n",
      "  ValueWarning)\n"
     ]
    },
    {
     "data": {
      "image/png": "[encoded data removed]",
      "text/plain": [
       "<Figure size 1440x288 with 1 Axes>"
      ]
     },
     "metadata": {
      "needs_background": "light"
     },
     "output_type": "display_data"
    }
   ],
   "source": [
    "fig, ax = plt.subplots(figsize=(20,4))\n",
    "model_fit.plot_predict(start=2, end=410, ax=ax);\n",
    "plt.show()"
   ]
  },
  {
   "cell_type": "code",
   "execution_count": 141,
   "metadata": {},
   "outputs": [
    {
     "data": {
      "text/plain": [
       "(array([20.30952479]),\n",
       " array([242.52359558]),\n",
       " array([[-455.02798794,  495.64703752]]))"
      ]
     },
     "execution_count": 141,
     "metadata": {},
     "output_type": "execute_result"
    }
   ],
   "source": [
    "#forecasting the next periods\n",
    "model_fit.forecast(1)"
   ]
  },
  {
   "cell_type": "code",
   "execution_count": null,
   "metadata": {},
   "outputs": [],
   "source": []
  },
  {
   "cell_type": "code",
   "execution_count": null,
   "metadata": {},
   "outputs": [],
   "source": []
  },
  {
   "cell_type": "code",
   "execution_count": null,
   "metadata": {},
   "outputs": [],
   "source": []
  },
  {
   "cell_type": "markdown",
   "metadata": {},
   "source": [
    "## Prophet"
   ]
  },
  {
   "cell_type": "code",
   "execution_count": 5,
   "metadata": {},
   "outputs": [],
   "source": [
    "from fbprophet import Prophet"
   ]
  },
  {
   "cell_type": "code",
   "execution_count": 26,
   "metadata": {},
   "outputs": [],
   "source": [
    "ts.index.name = 'ds'\n",
    "ts = ts.reset_index()\n",
    "ts = ts.rename(columns={'timeline': 'y'})"
   ]
  },
  {
   "cell_type": "code",
   "execution_count": 19,
   "metadata": {},
   "outputs": [],
   "source": []
  },
  {
   "cell_type": "code",
   "execution_count": 27,
   "metadata": {},
   "outputs": [
    {
     "name": "stderr",
     "output_type": "stream",
     "text": [
      "INFO:fbprophet:Disabling yearly seasonality. Run prophet with yearly_seasonality=True to override this.\n",
      "INFO:fbprophet:Disabling daily seasonality. Run prophet with daily_seasonality=True to override this.\n"
     ]
    },
    {
     "data": {
      "text/plain": [
       "<fbprophet.forecaster.Prophet at 0x7f8604f375b0>"
      ]
     },
     "execution_count": 27,
     "metadata": {},
     "output_type": "execute_result"
    }
   ],
   "source": [
    "Model = Prophet(interval_width=0.95)\n",
    "Model.fit(ts)"
   ]
  },
  {
   "cell_type": "code",
   "execution_count": 28,
   "metadata": {},
   "outputs": [
    {
     "data": {
      "text/html": [
       "<div>\n",
       "<style scoped>\n",
       "    .dataframe tbody tr th:only-of-type {\n",
       "        vertical-align: middle;\n",
       "    }\n",
       "\n",
       "    .dataframe tbody tr th {\n",
       "        vertical-align: top;\n",
       "    }\n",
       "\n",
       "    .dataframe thead th {\n",
       "        text-align: right;\n",
       "    }\n",
       "</style>\n",
       "<table border=\"1\" class=\"dataframe\">\n",
       "  <thead>\n",
       "    <tr style=\"text-align: right;\">\n",
       "      <th></th>\n",
       "      <th>ds</th>\n",
       "    </tr>\n",
       "  </thead>\n",
       "  <tbody>\n",
       "    <tr>\n",
       "      <th>396</th>\n",
       "      <td>2021-02-21</td>\n",
       "    </tr>\n",
       "    <tr>\n",
       "      <th>397</th>\n",
       "      <td>2021-02-22</td>\n",
       "    </tr>\n",
       "    <tr>\n",
       "      <th>398</th>\n",
       "      <td>2021-02-23</td>\n",
       "    </tr>\n",
       "    <tr>\n",
       "      <th>399</th>\n",
       "      <td>2021-02-24</td>\n",
       "    </tr>\n",
       "    <tr>\n",
       "      <th>400</th>\n",
       "      <td>2021-02-25</td>\n",
       "    </tr>\n",
       "  </tbody>\n",
       "</table>\n",
       "</div>"
      ],
      "text/plain": [
       "            ds\n",
       "396 2021-02-21\n",
       "397 2021-02-22\n",
       "398 2021-02-23\n",
       "399 2021-02-24\n",
       "400 2021-02-25"
      ]
     },
     "execution_count": 28,
     "metadata": {},
     "output_type": "execute_result"
    }
   ],
   "source": [
    "future_dates = Model.make_future_dataframe(periods=30, freq='D')\n",
    "future_dates.tail()"
   ]
  },
  {
   "cell_type": "code",
   "execution_count": null,
   "metadata": {},
   "outputs": [],
   "source": []
  },
  {
   "cell_type": "code",
   "execution_count": 29,
   "metadata": {},
   "outputs": [
    {
     "data": {
      "text/html": [
       "<div>\n",
       "<style scoped>\n",
       "    .dataframe tbody tr th:only-of-type {\n",
       "        vertical-align: middle;\n",
       "    }\n",
       "\n",
       "    .dataframe tbody tr th {\n",
       "        vertical-align: top;\n",
       "    }\n",
       "\n",
       "    .dataframe thead th {\n",
       "        text-align: right;\n",
       "    }\n",
       "</style>\n",
       "<table border=\"1\" class=\"dataframe\">\n",
       "  <thead>\n",
       "    <tr style=\"text-align: right;\">\n",
       "      <th></th>\n",
       "      <th>ds</th>\n",
       "      <th>trend</th>\n",
       "      <th>yhat_lower</th>\n",
       "      <th>yhat_upper</th>\n",
       "      <th>trend_lower</th>\n",
       "      <th>trend_upper</th>\n",
       "      <th>additive_terms</th>\n",
       "      <th>additive_terms_lower</th>\n",
       "      <th>additive_terms_upper</th>\n",
       "      <th>weekly</th>\n",
       "      <th>weekly_lower</th>\n",
       "      <th>weekly_upper</th>\n",
       "      <th>multiplicative_terms</th>\n",
       "      <th>multiplicative_terms_lower</th>\n",
       "      <th>multiplicative_terms_upper</th>\n",
       "      <th>yhat</th>\n",
       "    </tr>\n",
       "  </thead>\n",
       "  <tbody>\n",
       "    <tr>\n",
       "      <th>0</th>\n",
       "      <td>2020-01-22</td>\n",
       "      <td>-9.257413</td>\n",
       "      <td>-364.547889</td>\n",
       "      <td>352.641914</td>\n",
       "      <td>-9.257413</td>\n",
       "      <td>-9.257413</td>\n",
       "      <td>3.252063</td>\n",
       "      <td>3.252063</td>\n",
       "      <td>3.252063</td>\n",
       "      <td>3.252063</td>\n",
       "      <td>3.252063</td>\n",
       "      <td>3.252063</td>\n",
       "      <td>0.0</td>\n",
       "      <td>0.0</td>\n",
       "      <td>0.0</td>\n",
       "      <td>-6.005350</td>\n",
       "    </tr>\n",
       "    <tr>\n",
       "      <th>1</th>\n",
       "      <td>2020-01-23</td>\n",
       "      <td>-9.051921</td>\n",
       "      <td>-330.679996</td>\n",
       "      <td>348.737192</td>\n",
       "      <td>-9.051921</td>\n",
       "      <td>-9.051921</td>\n",
       "      <td>5.321936</td>\n",
       "      <td>5.321936</td>\n",
       "      <td>5.321936</td>\n",
       "      <td>5.321936</td>\n",
       "      <td>5.321936</td>\n",
       "      <td>5.321936</td>\n",
       "      <td>0.0</td>\n",
       "      <td>0.0</td>\n",
       "      <td>0.0</td>\n",
       "      <td>-3.729985</td>\n",
       "    </tr>\n",
       "    <tr>\n",
       "      <th>2</th>\n",
       "      <td>2020-01-24</td>\n",
       "      <td>-8.846429</td>\n",
       "      <td>-338.003886</td>\n",
       "      <td>329.736907</td>\n",
       "      <td>-8.846429</td>\n",
       "      <td>-8.846429</td>\n",
       "      <td>3.620696</td>\n",
       "      <td>3.620696</td>\n",
       "      <td>3.620696</td>\n",
       "      <td>3.620696</td>\n",
       "      <td>3.620696</td>\n",
       "      <td>3.620696</td>\n",
       "      <td>0.0</td>\n",
       "      <td>0.0</td>\n",
       "      <td>0.0</td>\n",
       "      <td>-5.225733</td>\n",
       "    </tr>\n",
       "    <tr>\n",
       "      <th>3</th>\n",
       "      <td>2020-01-25</td>\n",
       "      <td>-8.640936</td>\n",
       "      <td>-348.355099</td>\n",
       "      <td>331.868003</td>\n",
       "      <td>-8.640936</td>\n",
       "      <td>-8.640936</td>\n",
       "      <td>0.646546</td>\n",
       "      <td>0.646546</td>\n",
       "      <td>0.646546</td>\n",
       "      <td>0.646546</td>\n",
       "      <td>0.646546</td>\n",
       "      <td>0.646546</td>\n",
       "      <td>0.0</td>\n",
       "      <td>0.0</td>\n",
       "      <td>0.0</td>\n",
       "      <td>-7.994390</td>\n",
       "    </tr>\n",
       "    <tr>\n",
       "      <th>4</th>\n",
       "      <td>2020-01-26</td>\n",
       "      <td>-8.435444</td>\n",
       "      <td>-346.592119</td>\n",
       "      <td>311.619874</td>\n",
       "      <td>-8.435444</td>\n",
       "      <td>-8.435444</td>\n",
       "      <td>-2.546229</td>\n",
       "      <td>-2.546229</td>\n",
       "      <td>-2.546229</td>\n",
       "      <td>-2.546229</td>\n",
       "      <td>-2.546229</td>\n",
       "      <td>-2.546229</td>\n",
       "      <td>0.0</td>\n",
       "      <td>0.0</td>\n",
       "      <td>0.0</td>\n",
       "      <td>-10.981673</td>\n",
       "    </tr>\n",
       "  </tbody>\n",
       "</table>\n",
       "</div>"
      ],
      "text/plain": [
       "          ds     trend  yhat_lower  yhat_upper  trend_lower  trend_upper  \\\n",
       "0 2020-01-22 -9.257413 -364.547889  352.641914    -9.257413    -9.257413   \n",
       "1 2020-01-23 -9.051921 -330.679996  348.737192    -9.051921    -9.051921   \n",
       "2 2020-01-24 -8.846429 -338.003886  329.736907    -8.846429    -8.846429   \n",
       "3 2020-01-25 -8.640936 -348.355099  331.868003    -8.640936    -8.640936   \n",
       "4 2020-01-26 -8.435444 -346.592119  311.619874    -8.435444    -8.435444   \n",
       "\n",
       "   additive_terms  additive_terms_lower  additive_terms_upper    weekly  \\\n",
       "0        3.252063              3.252063              3.252063  3.252063   \n",
       "1        5.321936              5.321936              5.321936  5.321936   \n",
       "2        3.620696              3.620696              3.620696  3.620696   \n",
       "3        0.646546              0.646546              0.646546  0.646546   \n",
       "4       -2.546229             -2.546229             -2.546229 -2.546229   \n",
       "\n",
       "   weekly_lower  weekly_upper  multiplicative_terms  \\\n",
       "0      3.252063      3.252063                   0.0   \n",
       "1      5.321936      5.321936                   0.0   \n",
       "2      3.620696      3.620696                   0.0   \n",
       "3      0.646546      0.646546                   0.0   \n",
       "4     -2.546229     -2.546229                   0.0   \n",
       "\n",
       "   multiplicative_terms_lower  multiplicative_terms_upper       yhat  \n",
       "0                         0.0                         0.0  -6.005350  \n",
       "1                         0.0                         0.0  -3.729985  \n",
       "2                         0.0                         0.0  -5.225733  \n",
       "3                         0.0                         0.0  -7.994390  \n",
       "4                         0.0                         0.0 -10.981673  "
      ]
     },
     "execution_count": 29,
     "metadata": {},
     "output_type": "execute_result"
    }
   ],
   "source": [
    "forecast = Model.predict(future_dates)\n",
    "forecast.head()"
   ]
  },
  {
   "cell_type": "code",
   "execution_count": 30,
   "metadata": {},
   "outputs": [
    {
     "data": {
      "image/png": "[encoded data removed]",
      "text/plain": [
       "<Figure size 720x432 with 1 Axes>"
      ]
     },
     "metadata": {},
     "output_type": "display_data"
    }
   ],
   "source": [
    "Model.plot(forecast, uncertainty=True)\n",
    "plt.show()"
   ]
  },
  {
   "cell_type": "code",
   "execution_count": null,
   "metadata": {},
   "outputs": [],
   "source": []
  },
  {
   "cell_type": "markdown",
   "metadata": {},
   "source": [
    "## LSTM"
   ]
  },
  {
   "cell_type": "code",
   "execution_count": 31,
   "metadata": {},
   "outputs": [],
   "source": [
    "from keras.models import Sequential\n",
    "from keras.layers import Dense\n",
    "from keras.layers import LSTM\n",
    "from sklearn.preprocessing import MinMaxScaler\n",
    "from sklearn.metrics import mean_squared_error"
   ]
  },
  {
   "cell_type": "code",
   "execution_count": 39,
   "metadata": {},
   "outputs": [],
   "source": [
    "def create_dataset(dataset, look_back=1):\n",
    "    dataX, dataY = [], []\n",
    "    for i in range(len(dataset)-look_back-1):\n",
    "        a = dataset[i:(i+look_back), 0]\n",
    "        dataX.append(a)\n",
    "        dataY.append(dataset[i + look_back, 0])\n",
    "    return np.array(dataX), np.array(dataY)"
   ]
  },
  {
   "cell_type": "code",
   "execution_count": 85,
   "metadata": {},
   "outputs": [],
   "source": [
    "df = pd.DataFrame()\n",
    "df['death'] = ts['y']"
   ]
  },
  {
   "cell_type": "code",
   "execution_count": 86,
   "metadata": {},
   "outputs": [],
   "source": [
    "scaler = MinMaxScaler(feature_range=(0, 1))\n",
    "dataset = scaler.fit_transform(df)"
   ]
  },
  {
   "cell_type": "code",
   "execution_count": 87,
   "metadata": {},
   "outputs": [
    {
     "data": {
      "text/plain": [
       "((248, 1), (123, 1))"
      ]
     },
     "execution_count": 87,
     "metadata": {},
     "output_type": "execute_result"
    }
   ],
   "source": [
    "train_size = int(len(dataset) * 0.67)\n",
    "test_size = len(dataset) - train_size\n",
    "train, test = dataset[0:train_size,:], dataset[train_size:len(dataset),:]\n",
    "train.shape, test.shape"
   ]
  },
  {
   "cell_type": "code",
   "execution_count": 88,
   "metadata": {},
   "outputs": [],
   "source": [
    "look_back = 1\n",
    "trainX, trainY = create_dataset(train, look_back)\n",
    "testX, testY = create_dataset(test, look_back)"
   ]
  },
  {
   "cell_type": "code",
   "execution_count": 89,
   "metadata": {},
   "outputs": [],
   "source": [
    "trainX = np.reshape(trainX, (trainX.shape[0], 1, trainX.shape[1]))\n",
    "testX = np.reshape(testX, (testX.shape[0], 1, testX.shape[1]))"
   ]
  },
  {
   "cell_type": "code",
   "execution_count": 90,
   "metadata": {},
   "outputs": [
    {
     "data": {
      "text/plain": [
       "<tensorflow.python.keras.callbacks.History at 0x7f85ee8f7d60>"
      ]
     },
     "execution_count": 90,
     "metadata": {},
     "output_type": "execute_result"
    }
   ],
   "source": [
    "model = Sequential()\n",
    "model.add(LSTM(4, input_shape=(1, look_back)))\n",
    "model.add(Dense(1))\n",
    "model.compile(loss='mean_squared_error', optimizer='adam')\n",
    "model.fit(trainX, trainY, epochs=1, batch_size=1, verbose=-1)"
   ]
  },
  {
   "cell_type": "code",
   "execution_count": 91,
   "metadata": {},
   "outputs": [
    {
     "name": "stdout",
     "output_type": "stream",
     "text": [
      "Train Score: 2077.73 RMSE\n",
      "Test Score: 10200.75 RMSE\n"
     ]
    }
   ],
   "source": [
    "trainPredict = model.predict(trainX)\n",
    "testPredict = model.predict(testX)\n",
    "\n",
    "trainPredict = scaler.inverse_transform(trainPredict)\n",
    "trainY = scaler.inverse_transform([trainY])\n",
    "testPredict = scaler.inverse_transform(testPredict)\n",
    "testY = scaler.inverse_transform([testY])\n",
    "# calculate root mean squared error\n",
    "trainScore = mean_squared_error(trainY[0], trainPredict[:,0], squared=False)\n",
    "print('Train Score: %.2f RMSE' % (trainScore))\n",
    "testScore = mean_squared_error(testY[0], testPredict[:,0], squared=False)\n",
    "print('Test Score: %.2f RMSE' % (testScore))"
   ]
  },
  {
   "cell_type": "code",
   "execution_count": 93,
   "metadata": {},
   "outputs": [
    {
     "data": {
      "image/png": "[encoded data removed]",
      "text/plain": [
       "<Figure size 432x288 with 1 Axes>"
      ]
     },
     "metadata": {
      "needs_background": "light"
     },
     "output_type": "display_data"
    }
   ],
   "source": [
    "trainPredictPlot = np.empty_like(dataset)\n",
    "trainPredictPlot[:, :] = np.nan\n",
    "trainPredictPlot[look_back:len(trainPredict)+look_back, :] = trainPredict\n",
    "# shift test predictions for plotting\n",
    "testPredictPlot = np.empty_like(dataset)\n",
    "testPredictPlot[:, :] = np.nan\n",
    "testPredictPlot[len(trainPredict)+(look_back*2)+1:len(dataset)-1, :] = testPredict\n",
    "# plot baseline and predictions\n",
    "plt.plot(scaler.inverse_transform(dataset))\n",
    "plt.plot(trainPredictPlot)\n",
    "plt.plot(testPredictPlot)\n",
    "plt.show()"
   ]
  },
  {
   "cell_type": "code",
   "execution_count": null,
   "metadata": {},
   "outputs": [],
   "source": []
  },
  {
   "cell_type": "code",
   "execution_count": null,
   "metadata": {},
   "outputs": [],
   "source": []
  },
  {
   "cell_type": "code",
   "execution_count": null,
   "metadata": {},
   "outputs": [],
   "source": []
  },
  {
   "cell_type": "markdown",
   "metadata": {},
   "source": [
    "# Conclusion"
   ]
  },
  {
   "cell_type": "markdown",
   "metadata": {},
   "source": []
  }
 ],
 "metadata": {
  "kernelspec": {
   "display_name": "learn-env",
   "language": "python",
   "name": "learn-env"
  },
  "language_info": {
   "codemirror_mode": {
    "name": "ipython",
    "version": 3
   },
   "file_extension": ".py",
   "mimetype": "text/x-python",
   "name": "python",
   "nbconvert_exporter": "python",
   "pygments_lexer": "ipython3",
   "version": "3.8.5"
  },
  "toc": {
   "base_numbering": 1,
   "nav_menu": {},
   "number_sections": true,
   "sideBar": true,
   "skip_h1_title": false,
   "title_cell": "Table of Contents",
   "title_sidebar": "Contents",
   "toc_cell": false,
   "toc_position": {},
   "toc_section_display": true,
   "toc_window_display": true
  }
 },
 "nbformat": 4,
 "nbformat_minor": 4
}
